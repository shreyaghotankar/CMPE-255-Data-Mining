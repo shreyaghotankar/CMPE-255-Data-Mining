{
  "nbformat": 4,
  "nbformat_minor": 0,
  "metadata": {
    "colab": {
      "name": "CMPE255-ApproximateNearestNeighbor.ipynb",
      "provenance": [],
      "collapsed_sections": [],
      "toc_visible": true,
      "mount_file_id": "1fumP9VzW3u82rXCzZOuObuai7BAm8fmF",
      "authorship_tag": "ABX9TyOnxoQmSh3gsulpi7wqFYL4",
      "include_colab_link": true
    },
    "kernelspec": {
      "name": "python3",
      "display_name": "Python 3"
    },
    "language_info": {
      "name": "python"
    },
    "accelerator": "GPU"
  },
  "cells": [
    {
      "cell_type": "markdown",
      "metadata": {
        "id": "view-in-github",
        "colab_type": "text"
      },
      "source": [
        "<a href=\"https://colab.research.google.com/github/shreyaghotankar/CMPE-255-Data-Mining/blob/master/CMPE255_ApproximateNearestNeighbor.ipynb\" target=\"_parent\"><img src=\"https://colab.research.google.com/assets/colab-badge.svg\" alt=\"Open In Colab\"/></a>"
      ]
    },
    {
      "cell_type": "markdown",
      "metadata": {
        "id": "tsPzvRyVOQCY"
      },
      "source": [
        "# Assignment - Approximate nearest neighbor search\n",
        "\n",
        "a) LSH\n",
        "\n",
        "b) exhaustive search\n",
        "\n",
        "c) product quantization\n",
        "\n",
        "d) trees\n",
        "\n",
        "e) hnsw"
      ]
    },
    {
      "cell_type": "code",
      "metadata": {
        "id": "9Ua-ITspN9S_"
      },
      "source": [
        "import pickle\n",
        "import pandas as pd\n",
        "import numpy as np\n",
        "import os\n",
        "import json\n",
        "import math\n",
        "import statistics\n",
        "import re\n",
        "\n",
        "import warnings\n",
        "warnings.filterwarnings(\"ignore\")\n",
        "\n",
        "pd.set_option('display.max_columns', None)"
      ],
      "execution_count": null,
      "outputs": []
    },
    {
      "cell_type": "markdown",
      "metadata": {
        "id": "T62A44IssePr"
      },
      "source": [
        "# Locality Sensitive Hashing (LSH)"
      ]
    },
    {
      "cell_type": "markdown",
      "metadata": {
        "id": "5P-VKX9Km3K8"
      },
      "source": [
        "## Using FAISS\n",
        "\n",
        "**Dataset**: [Stackexchange Network - From StackOverflow](https://making.lyst.com/lightfm/docs/datasets.html)\n",
        "\n",
        "\n",
        "Approximately 1.3M users, 11M questions, and 18M answers.\n",
        "\n",
        "Info:\n",
        "* train (sp.coo_matrix of shape [n_users, n_items]) – Contains training set interactions.\n",
        "* test (sp.coo_matrix of shape [n_users, n_items]) – Contains testing set interactions.\n",
        "* item_features (sp.csr_matrix of shape [n_items, n_item_features]) – Contains item features.\n",
        "* item_feature_labels (np.array of strings of shape [n_item_features,]) – Labels of item features."
      ]
    },
    {
      "cell_type": "code",
      "metadata": {
        "colab": {
          "base_uri": "https://localhost:8080/"
        },
        "id": "1-oNOGULK86T",
        "outputId": "c7192112-2988-412d-de88-3433067c770d"
      },
      "source": [
        "!pip install lightfm"
      ],
      "execution_count": null,
      "outputs": [
        {
          "output_type": "stream",
          "name": "stdout",
          "text": [
            "Requirement already satisfied: lightfm in /usr/local/lib/python3.7/dist-packages (1.16)\n",
            "Requirement already satisfied: requests in /usr/local/lib/python3.7/dist-packages (from lightfm) (2.23.0)\n",
            "Requirement already satisfied: scipy>=0.17.0 in /usr/local/lib/python3.7/dist-packages (from lightfm) (1.4.1)\n",
            "Requirement already satisfied: numpy in /usr/local/lib/python3.7/dist-packages (from lightfm) (1.19.5)\n",
            "Requirement already satisfied: scikit-learn in /usr/local/lib/python3.7/dist-packages (from lightfm) (1.0.1)\n",
            "Requirement already satisfied: certifi>=2017.4.17 in /usr/local/lib/python3.7/dist-packages (from requests->lightfm) (2021.10.8)\n",
            "Requirement already satisfied: urllib3!=1.25.0,!=1.25.1,<1.26,>=1.21.1 in /usr/local/lib/python3.7/dist-packages (from requests->lightfm) (1.24.3)\n",
            "Requirement already satisfied: chardet<4,>=3.0.2 in /usr/local/lib/python3.7/dist-packages (from requests->lightfm) (3.0.4)\n",
            "Requirement already satisfied: idna<3,>=2.5 in /usr/local/lib/python3.7/dist-packages (from requests->lightfm) (2.10)\n",
            "Requirement already satisfied: threadpoolctl>=2.0.0 in /usr/local/lib/python3.7/dist-packages (from scikit-learn->lightfm) (3.0.0)\n",
            "Requirement already satisfied: joblib>=0.11 in /usr/local/lib/python3.7/dist-packages (from scikit-learn->lightfm) (1.1.0)\n"
          ]
        }
      ]
    },
    {
      "cell_type": "code",
      "metadata": {
        "id": "F3IsMfMBnH3q"
      },
      "source": [
        "from lightfm import LightFM\n",
        "from lightfm.datasets import fetch_stackexchange"
      ],
      "execution_count": null,
      "outputs": []
    },
    {
      "cell_type": "code",
      "metadata": {
        "id": "ucxcdWGuLGAk"
      },
      "source": [
        "stackexchange = fetch_stackexchange(dataset='stackoverflow') # stackexchange data where users answers questions like on stackoverflow."
      ],
      "execution_count": null,
      "outputs": []
    },
    {
      "cell_type": "markdown",
      "metadata": {
        "id": "CqxYYO_0oTpl"
      },
      "source": [
        "Creating LightFM model and fit to the dataset to generate embeddings that will be used to create vectors."
      ]
    },
    {
      "cell_type": "code",
      "metadata": {
        "colab": {
          "base_uri": "https://localhost:8080/"
        },
        "id": "7KgIvvWRLKZM",
        "outputId": "7703806e-323d-4311-f2c9-e3a0ae93e45c"
      },
      "source": [
        "model = LightFM(loss='warp')\n",
        "%time model.fit(stackexchange['train'], epochs=30, num_threads=2)"
      ],
      "execution_count": null,
      "outputs": [
        {
          "output_type": "stream",
          "name": "stdout",
          "text": [
            "CPU times: user 28min 39s, sys: 1.57 s, total: 28min 41s\n",
            "Wall time: 14min 52s\n"
          ]
        },
        {
          "output_type": "execute_result",
          "data": {
            "text/plain": [
              "<lightfm.lightfm.LightFM at 0x7f6bdb11b350>"
            ]
          },
          "metadata": {},
          "execution_count": 11
        }
      ]
    },
    {
      "cell_type": "code",
      "metadata": {
        "id": "TJJCssAyLcc7"
      },
      "source": [
        "item_vectors = stackexchange['item_features'] * model.item_embeddings"
      ],
      "execution_count": null,
      "outputs": []
    },
    {
      "cell_type": "markdown",
      "metadata": {
        "id": "Me0sflMJoebs"
      },
      "source": [
        "saving the vectors created in above step in pickle file"
      ]
    },
    {
      "cell_type": "code",
      "metadata": {
        "id": "5fj4gq-YOFqJ"
      },
      "source": [
        "with open('stackexchange.pickle', 'wb') as f:\n",
        "    pickle.dump({\"name\": stackexchange['item_feature_labels'], \"vector\": item_vectors}, f)"
      ],
      "execution_count": null,
      "outputs": []
    },
    {
      "cell_type": "code",
      "metadata": {
        "colab": {
          "base_uri": "https://localhost:8080/"
        },
        "id": "5CNI8oPTd6Y3",
        "outputId": "f2d52b34-af82-439b-adc1-251e8e9335dc"
      },
      "source": [
        "!pip install faiss-gpu # installing faiss gpu"
      ],
      "execution_count": null,
      "outputs": [
        {
          "output_type": "stream",
          "name": "stdout",
          "text": [
            "Collecting faiss-gpu\n",
            "  Downloading faiss_gpu-1.7.1.post2-cp37-cp37m-manylinux_2_17_x86_64.manylinux2014_x86_64.whl (89.7 MB)\n",
            "\u001b[K     |████████████████████████████████| 89.7 MB 20 kB/s \n",
            "\u001b[?25hInstalling collected packages: faiss-gpu\n",
            "Successfully installed faiss-gpu-1.7.1.post2\n"
          ]
        }
      ]
    },
    {
      "cell_type": "code",
      "metadata": {
        "id": "JJeiexgPd9X_"
      },
      "source": [
        "import faiss"
      ],
      "execution_count": null,
      "outputs": []
    },
    {
      "cell_type": "code",
      "metadata": {
        "colab": {
          "base_uri": "https://localhost:8080/"
        },
        "id": "ReBcDZHZfSxu",
        "outputId": "4ef9980b-9c51-48ef-a496-40f1270907c0"
      },
      "source": [
        "# loading the pickled dataset with vectors\n",
        "def load_data():\n",
        "    with open('/content/drive/MyDrive/CMPE255 - Data Mining/Assignments/Datasets/stackexchange.pickle', 'rb') as f:\n",
        "        data = pickle.load(f)\n",
        "    return data\n",
        "\n",
        "data = load_data()\n",
        "data"
      ],
      "execution_count": null,
      "outputs": [
        {
          "output_type": "execute_result",
          "data": {
            "text/plain": [
              "{'name': array(['question_id:0', 'question_id:1', 'question_id:2', ...,\n",
              "        'question_id:11280893', 'question_id:11280894',\n",
              "        'question_id:11280895'], dtype='<U20'),\n",
              " 'vector': array([[ 0.01564435,  0.2614761 , -0.2828568 , ...,  0.6273946 ,\n",
              "          0.6865856 , -0.27049625],\n",
              "        [ 0.22873431, -0.00347478, -0.46082127, ...,  0.3264265 ,\n",
              "          0.52347016, -0.12953286],\n",
              "        [-0.3405572 ,  0.29287434, -0.24874553, ...,  0.8486006 ,\n",
              "          0.25700596, -0.44324523],\n",
              "        ...,\n",
              "        [ 0.06665161, -0.09037501, -0.12953791, ..., -0.004171  ,\n",
              "          0.22689764,  0.5356065 ],\n",
              "        [-0.27515164,  0.2124995 ,  0.21542324, ..., -0.14622097,\n",
              "          0.1833778 ,  0.12455014],\n",
              "        [ 0.1305509 , -0.16130476,  0.13273829, ..., -0.02589074,\n",
              "         -0.46399045,  0.12061999]], dtype=float32)}"
            ]
          },
          "metadata": {},
          "execution_count": 7
        }
      ]
    },
    {
      "cell_type": "markdown",
      "metadata": {
        "id": "IvQKNQ9uoxk4"
      },
      "source": [
        "Creating an index function that is used to add dimensions to the index."
      ]
    },
    {
      "cell_type": "code",
      "metadata": {
        "id": "PYFZp2EcfZdv"
      },
      "source": [
        "class LSH_Index():\n",
        "     def __init__(self, vectors, labels):\n",
        "         self.dimension = vectors.shape[1]\n",
        "         self.vectors = vectors.astype('float32')\n",
        "         self.labels = labels\n",
        "\n",
        "\n",
        "     def build(self, number_of_partition=8, search_in_x_partitions=2, subvector_size=8):\n",
        "         quantizer = faiss.IndexFlatL2(self.dimension)\n",
        "         self.index = faiss.IndexIVFPQ(quantizer, self.dimension, number_of_partition, search_in_x_partitions, subvector_size)\n",
        "         self.index.train(self.vectors)\n",
        "         self.index.add(self.vectors)\n",
        "        \n",
        "     def query(self, vectors, k=10):\n",
        "         distances, indices = self.index.search(vectors, k) \n",
        "         return [self.labels[i] for i in indices[0]]"
      ],
      "execution_count": null,
      "outputs": []
    },
    {
      "cell_type": "code",
      "metadata": {
        "id": "cpdNqky2fnOR"
      },
      "source": [
        "index = LSH_Index(data[\"vector\"], data[\"name\"])\n",
        "index.build()"
      ],
      "execution_count": null,
      "outputs": []
    },
    {
      "cell_type": "code",
      "metadata": {
        "colab": {
          "base_uri": "https://localhost:8080/"
        },
        "id": "OV_YHUvlgCHU",
        "outputId": "d9489910-b460-4fe1-91eb-c6d40738f81e"
      },
      "source": [
        "stackexch_vector, stackexch_name = data['vector'][80:81], data['name'][80]\n",
        "simlar_stackexch_names = '\\n* '.join(index.query(stackexch_vector))\n",
        "print(f\"Similar stuff to {stackexch_name} are:\\n* {simlar_stackexch_names}\")"
      ],
      "execution_count": null,
      "outputs": [
        {
          "output_type": "stream",
          "name": "stdout",
          "text": [
            "Similar stuff to question_id:80 are:\n",
            "* question_id:4746\n",
            "* question_id:21897\n",
            "* question_id:60707\n",
            "* question_id:159891\n",
            "* question_id:80\n",
            "* question_id:64190\n",
            "* question_id:190187\n",
            "* question_id:202659\n",
            "* question_id:187688\n",
            "* question_id:57529\n"
          ]
        }
      ]
    },
    {
      "cell_type": "markdown",
      "metadata": {
        "id": "_QA5sGyepNn-"
      },
      "source": [
        "The results are the most similar items to question id 80 in the dataset"
      ]
    },
    {
      "cell_type": "markdown",
      "metadata": {
        "id": "4xN2a2wSm7P1"
      },
      "source": [
        "## Using Datasketch and pinecone\n",
        "\n",
        "**Dataset**: [NeurIPS conference papers](https://www.kaggle.com/rowhitswami/nips-papers-1987-2019-updated)"
      ]
    },
    {
      "cell_type": "code",
      "metadata": {
        "colab": {
          "base_uri": "https://localhost:8080/"
        },
        "id": "0N5lEugJs1hn",
        "outputId": "5a20a3a6-956d-4c9e-8664-851303f77e26"
      },
      "source": [
        "!pip install nltk\n",
        "!pip install gensim\n",
        "!pip install transformers\n",
        "!pip install -qU datasketch gensim mmh3 pinecone-client ipywidgets\n",
        "!pip install -qU sentence-transformers --no-cache-dir"
      ],
      "execution_count": null,
      "outputs": [
        {
          "output_type": "stream",
          "name": "stdout",
          "text": [
            "Requirement already satisfied: nltk in /usr/local/lib/python3.7/dist-packages (3.2.5)\n",
            "Requirement already satisfied: six in /usr/local/lib/python3.7/dist-packages (from nltk) (1.15.0)\n",
            "Requirement already satisfied: gensim in /usr/local/lib/python3.7/dist-packages (3.6.0)\n",
            "Requirement already satisfied: six>=1.5.0 in /usr/local/lib/python3.7/dist-packages (from gensim) (1.15.0)\n",
            "Requirement already satisfied: scipy>=0.18.1 in /usr/local/lib/python3.7/dist-packages (from gensim) (1.4.1)\n",
            "Requirement already satisfied: numpy>=1.11.3 in /usr/local/lib/python3.7/dist-packages (from gensim) (1.19.5)\n",
            "Requirement already satisfied: smart-open>=1.2.1 in /usr/local/lib/python3.7/dist-packages (from gensim) (5.2.1)\n",
            "Collecting transformers\n",
            "  Downloading transformers-4.12.5-py3-none-any.whl (3.1 MB)\n",
            "\u001b[K     |████████████████████████████████| 3.1 MB 4.3 MB/s \n",
            "\u001b[?25hRequirement already satisfied: filelock in /usr/local/lib/python3.7/dist-packages (from transformers) (3.4.0)\n",
            "Requirement already satisfied: requests in /usr/local/lib/python3.7/dist-packages (from transformers) (2.23.0)\n",
            "Requirement already satisfied: importlib-metadata in /usr/local/lib/python3.7/dist-packages (from transformers) (4.8.2)\n",
            "Collecting tokenizers<0.11,>=0.10.1\n",
            "  Downloading tokenizers-0.10.3-cp37-cp37m-manylinux_2_5_x86_64.manylinux1_x86_64.manylinux_2_12_x86_64.manylinux2010_x86_64.whl (3.3 MB)\n",
            "\u001b[K     |████████████████████████████████| 3.3 MB 41.9 MB/s \n",
            "\u001b[?25hRequirement already satisfied: packaging>=20.0 in /usr/local/lib/python3.7/dist-packages (from transformers) (21.3)\n",
            "Collecting huggingface-hub<1.0,>=0.1.0\n",
            "  Downloading huggingface_hub-0.1.2-py3-none-any.whl (59 kB)\n",
            "\u001b[K     |████████████████████████████████| 59 kB 6.4 MB/s \n",
            "\u001b[?25hRequirement already satisfied: tqdm>=4.27 in /usr/local/lib/python3.7/dist-packages (from transformers) (4.62.3)\n",
            "Collecting pyyaml>=5.1\n",
            "  Downloading PyYAML-6.0-cp37-cp37m-manylinux_2_5_x86_64.manylinux1_x86_64.manylinux_2_12_x86_64.manylinux2010_x86_64.whl (596 kB)\n",
            "\u001b[K     |████████████████████████████████| 596 kB 47.7 MB/s \n",
            "\u001b[?25hCollecting sacremoses\n",
            "  Downloading sacremoses-0.0.46-py3-none-any.whl (895 kB)\n",
            "\u001b[K     |████████████████████████████████| 895 kB 69.8 MB/s \n",
            "\u001b[?25hRequirement already satisfied: regex!=2019.12.17 in /usr/local/lib/python3.7/dist-packages (from transformers) (2019.12.20)\n",
            "Requirement already satisfied: numpy>=1.17 in /usr/local/lib/python3.7/dist-packages (from transformers) (1.19.5)\n",
            "Requirement already satisfied: typing-extensions>=3.7.4.3 in /usr/local/lib/python3.7/dist-packages (from huggingface-hub<1.0,>=0.1.0->transformers) (3.10.0.2)\n",
            "Requirement already satisfied: pyparsing!=3.0.5,>=2.0.2 in /usr/local/lib/python3.7/dist-packages (from packaging>=20.0->transformers) (3.0.6)\n",
            "Requirement already satisfied: zipp>=0.5 in /usr/local/lib/python3.7/dist-packages (from importlib-metadata->transformers) (3.6.0)\n",
            "Requirement already satisfied: chardet<4,>=3.0.2 in /usr/local/lib/python3.7/dist-packages (from requests->transformers) (3.0.4)\n",
            "Requirement already satisfied: urllib3!=1.25.0,!=1.25.1,<1.26,>=1.21.1 in /usr/local/lib/python3.7/dist-packages (from requests->transformers) (1.24.3)\n",
            "Requirement already satisfied: idna<3,>=2.5 in /usr/local/lib/python3.7/dist-packages (from requests->transformers) (2.10)\n",
            "Requirement already satisfied: certifi>=2017.4.17 in /usr/local/lib/python3.7/dist-packages (from requests->transformers) (2021.10.8)\n",
            "Requirement already satisfied: click in /usr/local/lib/python3.7/dist-packages (from sacremoses->transformers) (7.1.2)\n",
            "Requirement already satisfied: six in /usr/local/lib/python3.7/dist-packages (from sacremoses->transformers) (1.15.0)\n",
            "Requirement already satisfied: joblib in /usr/local/lib/python3.7/dist-packages (from sacremoses->transformers) (1.1.0)\n",
            "Installing collected packages: pyyaml, tokenizers, sacremoses, huggingface-hub, transformers\n",
            "  Attempting uninstall: pyyaml\n",
            "    Found existing installation: PyYAML 3.13\n",
            "    Uninstalling PyYAML-3.13:\n",
            "      Successfully uninstalled PyYAML-3.13\n",
            "Successfully installed huggingface-hub-0.1.2 pyyaml-6.0 sacremoses-0.0.46 tokenizers-0.10.3 transformers-4.12.5\n",
            "\u001b[K     |████████████████████████████████| 67 kB 2.5 MB/s \n",
            "\u001b[K     |████████████████████████████████| 24.1 MB 2.4 MB/s \n",
            "\u001b[K     |████████████████████████████████| 50 kB 6.0 MB/s \n",
            "\u001b[K     |████████████████████████████████| 156 kB 73.2 MB/s \n",
            "\u001b[K     |████████████████████████████████| 57 kB 3.9 MB/s \n",
            "\u001b[K     |████████████████████████████████| 241 kB 58.8 MB/s \n",
            "\u001b[K     |████████████████████████████████| 140 kB 58.9 MB/s \n",
            "\u001b[K     |████████████████████████████████| 78 kB 5.1 MB/s \n",
            "\u001b[K     |████████████████████████████████| 1.2 MB 9.0 MB/s \n",
            "\u001b[?25h  Building wheel for sentence-transformers (setup.py) ... \u001b[?25l\u001b[?25hdone\n"
          ]
        }
      ]
    },
    {
      "cell_type": "code",
      "metadata": {
        "colab": {
          "base_uri": "https://localhost:8080/"
        },
        "id": "4cXF-doAs3pg",
        "outputId": "276308bd-149a-4b33-c593-b0389fce5cf8"
      },
      "source": [
        "import nltk\n",
        "from nltk.corpus import stopwords\n",
        "from nltk.stem import PorterStemmer\n",
        "nltk.download('stopwords')\n",
        "\n",
        "import time"
      ],
      "execution_count": null,
      "outputs": [
        {
          "output_type": "stream",
          "name": "stdout",
          "text": [
            "[nltk_data] Downloading package stopwords to /root/nltk_data...\n",
            "[nltk_data]   Unzipping corpora/stopwords.zip.\n"
          ]
        }
      ]
    },
    {
      "cell_type": "code",
      "metadata": {
        "colab": {
          "base_uri": "https://localhost:8080/",
          "height": 206
        },
        "id": "S7DrbzERpX7p",
        "outputId": "f1680c65-45d8-4c60-c27a-4b5b54e13f71"
      },
      "source": [
        "df_papers = pd.read_csv('/content/drive/MyDrive/CMPE255 - Data Mining/Assignments/Datasets/papers.csv')\n",
        "df_papers.head()"
      ],
      "execution_count": null,
      "outputs": [
        {
          "output_type": "execute_result",
          "data": {
            "text/html": [
              "<div>\n",
              "<style scoped>\n",
              "    .dataframe tbody tr th:only-of-type {\n",
              "        vertical-align: middle;\n",
              "    }\n",
              "\n",
              "    .dataframe tbody tr th {\n",
              "        vertical-align: top;\n",
              "    }\n",
              "\n",
              "    .dataframe thead th {\n",
              "        text-align: right;\n",
              "    }\n",
              "</style>\n",
              "<table border=\"1\" class=\"dataframe\">\n",
              "  <thead>\n",
              "    <tr style=\"text-align: right;\">\n",
              "      <th></th>\n",
              "      <th>source_id</th>\n",
              "      <th>year</th>\n",
              "      <th>title</th>\n",
              "      <th>abstract</th>\n",
              "      <th>full_text</th>\n",
              "    </tr>\n",
              "  </thead>\n",
              "  <tbody>\n",
              "    <tr>\n",
              "      <th>0</th>\n",
              "      <td>27</td>\n",
              "      <td>1987</td>\n",
              "      <td>Bit-Serial Neural Networks</td>\n",
              "      <td>NaN</td>\n",
              "      <td>573 \\n\\nBIT - SERIAL NEURAL  NETWORKS \\n\\nAlan...</td>\n",
              "    </tr>\n",
              "    <tr>\n",
              "      <th>1</th>\n",
              "      <td>63</td>\n",
              "      <td>1987</td>\n",
              "      <td>Connectivity Versus Entropy</td>\n",
              "      <td>NaN</td>\n",
              "      <td>1 \\n\\nCONNECTIVITY VERSUS ENTROPY \\n\\nYaser  S...</td>\n",
              "    </tr>\n",
              "    <tr>\n",
              "      <th>2</th>\n",
              "      <td>60</td>\n",
              "      <td>1987</td>\n",
              "      <td>The Hopfield Model with Multi-Level Neurons</td>\n",
              "      <td>NaN</td>\n",
              "      <td>278 \\n\\nTHE HOPFIELD MODEL WITH MUL TI-LEVEL N...</td>\n",
              "    </tr>\n",
              "    <tr>\n",
              "      <th>3</th>\n",
              "      <td>59</td>\n",
              "      <td>1987</td>\n",
              "      <td>How Neural Nets Work</td>\n",
              "      <td>NaN</td>\n",
              "      <td>442 \\n\\nAlan  Lapedes \\nRobert  Farber \\n\\nThe...</td>\n",
              "    </tr>\n",
              "    <tr>\n",
              "      <th>4</th>\n",
              "      <td>69</td>\n",
              "      <td>1987</td>\n",
              "      <td>Spatial Organization of Neural Networks: A Pro...</td>\n",
              "      <td>NaN</td>\n",
              "      <td>740 \\n\\nSPATIAL  ORGANIZATION  OF  NEURAL  NEn...</td>\n",
              "    </tr>\n",
              "  </tbody>\n",
              "</table>\n",
              "</div>"
            ],
            "text/plain": [
              "   source_id  year                                              title  \\\n",
              "0         27  1987                         Bit-Serial Neural Networks   \n",
              "1         63  1987                        Connectivity Versus Entropy   \n",
              "2         60  1987        The Hopfield Model with Multi-Level Neurons   \n",
              "3         59  1987                               How Neural Nets Work   \n",
              "4         69  1987  Spatial Organization of Neural Networks: A Pro...   \n",
              "\n",
              "  abstract                                          full_text  \n",
              "0      NaN  573 \\n\\nBIT - SERIAL NEURAL  NETWORKS \\n\\nAlan...  \n",
              "1      NaN  1 \\n\\nCONNECTIVITY VERSUS ENTROPY \\n\\nYaser  S...  \n",
              "2      NaN  278 \\n\\nTHE HOPFIELD MODEL WITH MUL TI-LEVEL N...  \n",
              "3      NaN  442 \\n\\nAlan  Lapedes \\nRobert  Farber \\n\\nThe...  \n",
              "4      NaN  740 \\n\\nSPATIAL  ORGANIZATION  OF  NEURAL  NEn...  "
            ]
          },
          "metadata": {},
          "execution_count": 13
        }
      ]
    },
    {
      "cell_type": "code",
      "metadata": {
        "colab": {
          "base_uri": "https://localhost:8080/"
        },
        "id": "xVCeaiGPrStL",
        "outputId": "231cb586-2b46-4df1-c7d1-4802729319eb"
      },
      "source": [
        "df_papers.shape"
      ],
      "execution_count": null,
      "outputs": [
        {
          "output_type": "execute_result",
          "data": {
            "text/plain": [
              "(9680, 5)"
            ]
          },
          "metadata": {},
          "execution_count": 6
        }
      ]
    },
    {
      "cell_type": "code",
      "metadata": {
        "colab": {
          "base_uri": "https://localhost:8080/"
        },
        "id": "3YMJuKV7rWql",
        "outputId": "df630ff2-cb13-4617-ccbe-988b458bd18c"
      },
      "source": [
        "df_papers.info()"
      ],
      "execution_count": null,
      "outputs": [
        {
          "output_type": "stream",
          "name": "stdout",
          "text": [
            "<class 'pandas.core.frame.DataFrame'>\n",
            "RangeIndex: 9680 entries, 0 to 9679\n",
            "Data columns (total 5 columns):\n",
            " #   Column     Non-Null Count  Dtype \n",
            "---  ------     --------------  ----- \n",
            " 0   source_id  9680 non-null   int64 \n",
            " 1   year       9680 non-null   int64 \n",
            " 2   title      9680 non-null   object\n",
            " 3   abstract   6361 non-null   object\n",
            " 4   full_text  9677 non-null   object\n",
            "dtypes: int64(2), object(3)\n",
            "memory usage: 378.2+ KB\n"
          ]
        }
      ]
    },
    {
      "cell_type": "code",
      "metadata": {
        "colab": {
          "base_uri": "https://localhost:8080/"
        },
        "id": "VzjgoIZ1raWI",
        "outputId": "66b82b81-40df-4d09-f96b-2b84bb10fa7a"
      },
      "source": [
        "df_papers.isna().sum() # checking for missing values"
      ],
      "execution_count": null,
      "outputs": [
        {
          "output_type": "execute_result",
          "data": {
            "text/plain": [
              "source_id       0\n",
              "year            0\n",
              "title           0\n",
              "abstract     3319\n",
              "full_text       3\n",
              "dtype: int64"
            ]
          },
          "metadata": {},
          "execution_count": 8
        }
      ]
    },
    {
      "cell_type": "code",
      "metadata": {
        "colab": {
          "base_uri": "https://localhost:8080/"
        },
        "id": "IsrCx0Cprjzx",
        "outputId": "2f211688-a803-4cf5-c51d-04672fd2ca1e"
      },
      "source": [
        "df_papers.dropna(inplace=True) # dropping missing values\n",
        "df_papers.shape"
      ],
      "execution_count": null,
      "outputs": [
        {
          "output_type": "execute_result",
          "data": {
            "text/plain": [
              "(6360, 5)"
            ]
          },
          "metadata": {},
          "execution_count": 14
        }
      ]
    },
    {
      "cell_type": "code",
      "metadata": {
        "colab": {
          "base_uri": "https://localhost:8080/",
          "height": 204
        },
        "id": "hjvu2BuEsHO0",
        "outputId": "c9bd3613-ee28-474a-b154-58dd8e4c13e9"
      },
      "source": [
        "df_papers.head()"
      ],
      "execution_count": null,
      "outputs": [
        {
          "output_type": "execute_result",
          "data": {
            "text/html": [
              "<div>\n",
              "<style scoped>\n",
              "    .dataframe tbody tr th:only-of-type {\n",
              "        vertical-align: middle;\n",
              "    }\n",
              "\n",
              "    .dataframe tbody tr th {\n",
              "        vertical-align: top;\n",
              "    }\n",
              "\n",
              "    .dataframe thead th {\n",
              "        text-align: right;\n",
              "    }\n",
              "</style>\n",
              "<table border=\"1\" class=\"dataframe\">\n",
              "  <thead>\n",
              "    <tr style=\"text-align: right;\">\n",
              "      <th></th>\n",
              "      <th>source_id</th>\n",
              "      <th>year</th>\n",
              "      <th>title</th>\n",
              "      <th>abstract</th>\n",
              "      <th>full_text</th>\n",
              "    </tr>\n",
              "  </thead>\n",
              "  <tbody>\n",
              "    <tr>\n",
              "      <th>1321</th>\n",
              "      <td>5220</td>\n",
              "      <td>1997</td>\n",
              "      <td>Learning Generative Models with the Up Propaga...</td>\n",
              "      <td>Up-\u0002propagation is an algorithm for inverting ...</td>\n",
              "      <td>Learning Generative Models with the\\n\\nUp(cid:...</td>\n",
              "    </tr>\n",
              "    <tr>\n",
              "      <th>1334</th>\n",
              "      <td>5221</td>\n",
              "      <td>1997</td>\n",
              "      <td>A Neural Network Based Head Tracking System</td>\n",
              "      <td>We have constructed an inexpensive video based...</td>\n",
              "      <td>A Neural Network Based\\n\\nHead Tracking System...</td>\n",
              "    </tr>\n",
              "    <tr>\n",
              "      <th>1897</th>\n",
              "      <td>1861</td>\n",
              "      <td>2000</td>\n",
              "      <td>Algorithms for Non-negative Matrix Factorization</td>\n",
              "      <td>Non-negative matrix factorization (NMF) has pr...</td>\n",
              "      <td>Algorithms for Non-negative Matrix \\n\\nFactori...</td>\n",
              "    </tr>\n",
              "    <tr>\n",
              "      <th>1995</th>\n",
              "      <td>1975</td>\n",
              "      <td>2001</td>\n",
              "      <td>Characterizing Neural Gain Control using Spike...</td>\n",
              "      <td>Spike-triggered averaging techniques are effec...</td>\n",
              "      <td>Characterizing neural gain control using\\n\\nsp...</td>\n",
              "    </tr>\n",
              "    <tr>\n",
              "      <th>3126</th>\n",
              "      <td>195</td>\n",
              "      <td>2007</td>\n",
              "      <td>Compressed Regression</td>\n",
              "      <td>Recent research has studied the role of sparsi...</td>\n",
              "      <td>Compressed Regression\\n\\nShuheng Zhou∗ John La...</td>\n",
              "    </tr>\n",
              "  </tbody>\n",
              "</table>\n",
              "</div>"
            ],
            "text/plain": [
              "      source_id  ...                                          full_text\n",
              "1321       5220  ...  Learning Generative Models with the\\n\\nUp(cid:...\n",
              "1334       5221  ...  A Neural Network Based\\n\\nHead Tracking System...\n",
              "1897       1861  ...  Algorithms for Non-negative Matrix \\n\\nFactori...\n",
              "1995       1975  ...  Characterizing neural gain control using\\n\\nsp...\n",
              "3126        195  ...  Compressed Regression\\n\\nShuheng Zhou∗ John La...\n",
              "\n",
              "[5 rows x 5 columns]"
            ]
          },
          "metadata": {},
          "execution_count": 10
        }
      ]
    },
    {
      "cell_type": "code",
      "metadata": {
        "id": "xV52IH4utNht"
      },
      "source": [
        "stop_words = set(stopwords.words('english'))\n",
        "porter_stemmer = PorterStemmer()\n",
        "def preprocessText(text):\n",
        "    text = text.lower()\n",
        "    text = re.sub(\"[^a-z A-Z]\", ' ', text)\n",
        "    text = [porter_stemmer.stem(word) for word in text.split(' ') if not word in stop_words and word != '']\n",
        "    return text\n"
      ],
      "execution_count": null,
      "outputs": []
    },
    {
      "cell_type": "code",
      "metadata": {
        "id": "tnDMQHLdueEJ"
      },
      "source": [
        "from datasketch import MinHash, MinHashLSHForest"
      ],
      "execution_count": null,
      "outputs": []
    },
    {
      "cell_type": "code",
      "metadata": {
        "id": "g9cqeBG0t3EI"
      },
      "source": [
        "def create_forest(df, perms):\n",
        "    start_time = time.time()\n",
        "    \n",
        "    minhash = []\n",
        "    \n",
        "    for text in df['abstract']:\n",
        "        tokens = preprocessText(text)\n",
        "        m = MinHash(num_perm=perms)\n",
        "        for s in tokens:\n",
        "            m.update(s.encode('utf8'))\n",
        "        minhash.append(m)\n",
        "        \n",
        "    forest = MinHashLSHForest(num_perm=perms)\n",
        "    \n",
        "    for i,m in enumerate(minhash):\n",
        "        forest.add(i,m)\n",
        "        \n",
        "    forest.index()\n",
        "    \n",
        "    print('It took %s seconds to build forest.' %(time.time()-start_time))\n",
        "    \n",
        "    return forest"
      ],
      "execution_count": null,
      "outputs": []
    },
    {
      "cell_type": "code",
      "metadata": {
        "colab": {
          "base_uri": "https://localhost:8080/"
        },
        "id": "HY1mzPpQt-IA",
        "outputId": "ff6e27e3-7ad9-4e70-9aba-324477249901"
      },
      "source": [
        "permutations=120\n",
        "\n",
        "forest = create_forest(df_papers, permutations)"
      ],
      "execution_count": null,
      "outputs": [
        {
          "output_type": "stream",
          "name": "stdout",
          "text": [
            "It took 34.87200427055359 seconds to build forest.\n"
          ]
        }
      ]
    },
    {
      "cell_type": "code",
      "metadata": {
        "id": "S2UoeZ6ivNnu"
      },
      "source": [
        "def predict(text, df, perms, num_results, forest):\n",
        "    start_time = time.time()\n",
        "    \n",
        "    tokens = preprocessText(text)\n",
        "    m = MinHash(num_perm=perms)\n",
        "    for s in tokens:\n",
        "        m.update(s.encode('utf8'))\n",
        "        \n",
        "    idx_array = np.array(forest.query(m, num_results))\n",
        "    if len(idx_array) == 0:\n",
        "        return None # if your query is empty, return none\n",
        "    \n",
        "    result = df.iloc[idx_array]['title']\n",
        "    \n",
        "    print('It took %s seconds to query forest.' %(time.time()-start_time))\n",
        "    \n",
        "    return result"
      ],
      "execution_count": null,
      "outputs": []
    },
    {
      "cell_type": "code",
      "metadata": {
        "colab": {
          "base_uri": "https://localhost:8080/"
        },
        "id": "3hkQo3U2vZqc",
        "outputId": "e8613e56-5c0c-400d-d4a0-ad827f647e2b"
      },
      "source": [
        "num_recommendations = 3\n",
        "title = 'Efficient Rematerialization for Deep Networks'\n",
        "result = predict(title, df_papers, permutations, num_recommendations, forest)\n",
        "result"
      ],
      "execution_count": null,
      "outputs": [
        {
          "output_type": "stream",
          "name": "stdout",
          "text": [
            "It took 0.006567955017089844 seconds to query forest.\n"
          ]
        },
        {
          "output_type": "execute_result",
          "data": {
            "text/plain": [
              "5367                            Multi-Class Deep Boosting\n",
              "6889    Positive-Unlabeled Learning with Non-Negative ...\n",
              "7527      Collaborative Learning for Deep Neural Networks\n",
              "Name: title, dtype: object"
            ]
          },
          "metadata": {},
          "execution_count": 37
        }
      ]
    },
    {
      "cell_type": "markdown",
      "metadata": {
        "id": "r53YPsnxwEBO"
      },
      "source": [
        "Using 120 permutations and requesting for 3 recommendations response, the above result was generated using the LSH forest."
      ]
    },
    {
      "cell_type": "markdown",
      "metadata": {
        "id": "JbgiC8xrsZKR"
      },
      "source": [
        "# Exhaustive Search"
      ]
    },
    {
      "cell_type": "code",
      "metadata": {
        "id": "Ej-r6n6ssbyz"
      },
      "source": [
        "class ES_Index():\n",
        "    def __init__(self, vectors, labels):\n",
        "        self.dimension = vectors.shape[1]\n",
        "        self.vectors = vectors.astype('float32')\n",
        "        self.labels = labels    \n",
        "   \n",
        "    def build(self):\n",
        "        self.index = faiss.IndexFlatL2(self.dimension)\n",
        "        self.index.add(self.vectors)\n",
        "        \n",
        "    def query(self, vectors, k=10):\n",
        "        distances, indices = self.index.search(vectors, k) \n",
        "        return [self.labels[i] for i in indices[0]]"
      ],
      "execution_count": null,
      "outputs": []
    },
    {
      "cell_type": "code",
      "metadata": {
        "id": "hO8_rGwdsvIZ"
      },
      "source": [
        "index = ES_Index(data[\"vector\"], data[\"name\"])"
      ],
      "execution_count": null,
      "outputs": []
    },
    {
      "cell_type": "code",
      "metadata": {
        "id": "hraKeosVvCIz"
      },
      "source": [
        "index.build()"
      ],
      "execution_count": null,
      "outputs": []
    },
    {
      "cell_type": "code",
      "metadata": {
        "colab": {
          "base_uri": "https://localhost:8080/"
        },
        "id": "umrDFF3aszJw",
        "outputId": "546ecb6a-74d2-4d99-a5e7-3c4b2b66699e"
      },
      "source": [
        "stackexch_vector, stackexch_name = data['vector'][80:81], data['name'][80]\n",
        "simlar_stackexch_names = '\\n* '.join(index.query(stackexch_vector))\n",
        "print(f\"Similar questions to {stackexch_name} are:\\n* {simlar_stackexch_names}\")"
      ],
      "execution_count": null,
      "outputs": [
        {
          "output_type": "stream",
          "name": "stdout",
          "text": [
            "Similar questions to question_id:80 are:\n",
            "* question_id:80\n",
            "* question_id:914340\n",
            "* question_id:936984\n",
            "* question_id:458799\n",
            "* question_id:1290021\n",
            "* question_id:381947\n",
            "* question_id:517705\n",
            "* question_id:960165\n",
            "* question_id:431473\n",
            "* question_id:1256271\n"
          ]
        }
      ]
    },
    {
      "cell_type": "markdown",
      "metadata": {
        "id": "wOHlBnptvQ_X"
      },
      "source": [
        "We can compare the LSH and Exhaustive Search response for the same dataset and for the same question id and we can easily difference in the output generated by both the approaches."
      ]
    },
    {
      "cell_type": "markdown",
      "metadata": {
        "id": "4Mf35Eqjwpgu"
      },
      "source": [
        "# Product Quantization"
      ]
    },
    {
      "cell_type": "code",
      "metadata": {
        "id": "yGm-GelufXJ0"
      },
      "source": [
        "import faiss"
      ],
      "execution_count": null,
      "outputs": []
    },
    {
      "cell_type": "markdown",
      "metadata": {
        "id": "WXby85kTKIo_"
      },
      "source": [
        "Implementing using the Inverted File"
      ]
    },
    {
      "cell_type": "code",
      "metadata": {
        "id": "gUAkTIv8fY-t"
      },
      "source": [
        "class prodQuantIndex():\n",
        "    def __init__(self, vectors, labels):\n",
        "        self.dimension = vectors.shape[1]\n",
        "        self.vectors = vectors.astype('float32')\n",
        "        self.labels = labels\n",
        "\n",
        "\n",
        "    def build(self, number_of_partition=8, search_in_x_partitions=2, subvector_size=8):\n",
        "        quantizer = faiss.IndexFlatL2(self.dimension)\n",
        "        self.index = faiss.IndexIVFPQ(quantizer, self.dimension, number_of_partition, search_in_x_partitions, subvector_size)\n",
        "        self.index.train(self.vectors)\n",
        "        self.index.add(self.vectors)\n",
        "        \n",
        "    def query(self, vectors, k=10):\n",
        "        distances, indices = self.index.search(vectors, k) \n",
        "        return [self.labels[i] for i in indices[0]]"
      ],
      "execution_count": null,
      "outputs": []
    },
    {
      "cell_type": "code",
      "metadata": {
        "id": "PiPmIhW3kjAq"
      },
      "source": [
        "index = prodQuantIndex(data[\"vector\"], data[\"name\"])\n",
        "index.build()"
      ],
      "execution_count": null,
      "outputs": []
    },
    {
      "cell_type": "code",
      "metadata": {
        "colab": {
          "base_uri": "https://localhost:8080/"
        },
        "id": "FymnxA1doizB",
        "outputId": "a4f6c194-26d2-43f7-cf52-7aff31ffa2fe"
      },
      "source": [
        "question_index = 80\n",
        "stackexch_vector = data['vector'][question_index:question_index+1]\n",
        "print(f\"simillar questions to {data['name'][question_index]} are:\")\n",
        "index.query(stackexch_vector)"
      ],
      "execution_count": null,
      "outputs": [
        {
          "output_type": "stream",
          "name": "stdout",
          "text": [
            "simillar questions to question_id:80 are:\n"
          ]
        },
        {
          "output_type": "execute_result",
          "data": {
            "text/plain": [
              "['question_id:4746',\n",
              " 'question_id:21897',\n",
              " 'question_id:60707',\n",
              " 'question_id:159891',\n",
              " 'question_id:80',\n",
              " 'question_id:64190',\n",
              " 'question_id:190187',\n",
              " 'question_id:202659',\n",
              " 'question_id:187688',\n",
              " 'question_id:57529']"
            ]
          },
          "metadata": {},
          "execution_count": 21
        }
      ]
    },
    {
      "cell_type": "markdown",
      "metadata": {
        "id": "uvTvEe1ipAF7"
      },
      "source": [
        "This response is close to LSH recommendation than Exhaustive search"
      ]
    },
    {
      "cell_type": "markdown",
      "metadata": {
        "id": "O_wz6TVYQqsw"
      },
      "source": [
        "# Tree\n",
        "\n",
        "[Using California Fire dataset](https://www.kaggle.com/ananthu017/california-wildfire-incidents-20132020)\n",
        "\n",
        "Implementing the tree algorithms for nearest neighbor using sklearn.neighbors library"
      ]
    },
    {
      "cell_type": "code",
      "metadata": {
        "id": "uLI846M2mDba"
      },
      "source": [
        "from sklearn.neighbors import BallTree, KDTree\n",
        "from sklearn.model_selection import train_test_split"
      ],
      "execution_count": null,
      "outputs": []
    },
    {
      "cell_type": "code",
      "metadata": {
        "colab": {
          "base_uri": "https://localhost:8080/",
          "height": 1000
        },
        "id": "ypk2cd3xmK7B",
        "outputId": "cc2a07b8-3c24-43cf-8cc1-e83c535bf9ab"
      },
      "source": [
        "df_fire = pd.read_csv('/content/drive/MyDrive/CMPE255 - Data Mining/Assignments/Datasets/California_Fire_Incidents.csv')\n",
        "df_fire"
      ],
      "execution_count": null,
      "outputs": [
        {
          "output_type": "execute_result",
          "data": {
            "text/html": [
              "<div>\n",
              "<style scoped>\n",
              "    .dataframe tbody tr th:only-of-type {\n",
              "        vertical-align: middle;\n",
              "    }\n",
              "\n",
              "    .dataframe tbody tr th {\n",
              "        vertical-align: top;\n",
              "    }\n",
              "\n",
              "    .dataframe thead th {\n",
              "        text-align: right;\n",
              "    }\n",
              "</style>\n",
              "<table border=\"1\" class=\"dataframe\">\n",
              "  <thead>\n",
              "    <tr style=\"text-align: right;\">\n",
              "      <th></th>\n",
              "      <th>AcresBurned</th>\n",
              "      <th>Active</th>\n",
              "      <th>AdminUnit</th>\n",
              "      <th>AirTankers</th>\n",
              "      <th>ArchiveYear</th>\n",
              "      <th>CalFireIncident</th>\n",
              "      <th>CanonicalUrl</th>\n",
              "      <th>ConditionStatement</th>\n",
              "      <th>ControlStatement</th>\n",
              "      <th>Counties</th>\n",
              "      <th>CountyIds</th>\n",
              "      <th>CrewsInvolved</th>\n",
              "      <th>Dozers</th>\n",
              "      <th>Engines</th>\n",
              "      <th>Extinguished</th>\n",
              "      <th>Fatalities</th>\n",
              "      <th>Featured</th>\n",
              "      <th>Final</th>\n",
              "      <th>FuelType</th>\n",
              "      <th>Helicopters</th>\n",
              "      <th>Injuries</th>\n",
              "      <th>Latitude</th>\n",
              "      <th>Location</th>\n",
              "      <th>Longitude</th>\n",
              "      <th>MajorIncident</th>\n",
              "      <th>Name</th>\n",
              "      <th>PercentContained</th>\n",
              "      <th>PersonnelInvolved</th>\n",
              "      <th>Public</th>\n",
              "      <th>SearchDescription</th>\n",
              "      <th>SearchKeywords</th>\n",
              "      <th>Started</th>\n",
              "      <th>Status</th>\n",
              "      <th>StructuresDamaged</th>\n",
              "      <th>StructuresDestroyed</th>\n",
              "      <th>StructuresEvacuated</th>\n",
              "      <th>StructuresThreatened</th>\n",
              "      <th>UniqueId</th>\n",
              "      <th>Updated</th>\n",
              "      <th>WaterTenders</th>\n",
              "    </tr>\n",
              "  </thead>\n",
              "  <tbody>\n",
              "    <tr>\n",
              "      <th>0</th>\n",
              "      <td>257314.0</td>\n",
              "      <td>False</td>\n",
              "      <td>Stanislaus National Forest/Yosemite National Park</td>\n",
              "      <td>NaN</td>\n",
              "      <td>2013</td>\n",
              "      <td>True</td>\n",
              "      <td>/incidents/2013/8/17/rim-fire/</td>\n",
              "      <td>NaN</td>\n",
              "      <td>NaN</td>\n",
              "      <td>Tuolumne</td>\n",
              "      <td>55</td>\n",
              "      <td>NaN</td>\n",
              "      <td>NaN</td>\n",
              "      <td>NaN</td>\n",
              "      <td>2013-09-06T18:30:00Z</td>\n",
              "      <td>NaN</td>\n",
              "      <td>False</td>\n",
              "      <td>True</td>\n",
              "      <td>NaN</td>\n",
              "      <td>NaN</td>\n",
              "      <td>NaN</td>\n",
              "      <td>37.857000</td>\n",
              "      <td>3 miles east of Groveland along Hwy 120</td>\n",
              "      <td>-120.086000</td>\n",
              "      <td>False</td>\n",
              "      <td>Rim Fire</td>\n",
              "      <td>100.0</td>\n",
              "      <td>NaN</td>\n",
              "      <td>True</td>\n",
              "      <td>The Rim Fire was east of Groveland along Highw...</td>\n",
              "      <td>Rim Fire, Stanislaus National Forest, Yosemite...</td>\n",
              "      <td>2013-08-17T15:25:00Z</td>\n",
              "      <td>Finalized</td>\n",
              "      <td>NaN</td>\n",
              "      <td>NaN</td>\n",
              "      <td>NaN</td>\n",
              "      <td>NaN</td>\n",
              "      <td>5fb18d4d-213f-4d83-a179-daaf11939e78</td>\n",
              "      <td>2013-09-06T18:30:00Z</td>\n",
              "      <td>NaN</td>\n",
              "    </tr>\n",
              "    <tr>\n",
              "      <th>1</th>\n",
              "      <td>30274.0</td>\n",
              "      <td>False</td>\n",
              "      <td>USFS Angeles National Forest/Los Angeles Count...</td>\n",
              "      <td>NaN</td>\n",
              "      <td>2013</td>\n",
              "      <td>True</td>\n",
              "      <td>/incidents/2013/5/30/powerhouse-fire/</td>\n",
              "      <td>NaN</td>\n",
              "      <td>NaN</td>\n",
              "      <td>Los Angeles</td>\n",
              "      <td>19</td>\n",
              "      <td>NaN</td>\n",
              "      <td>NaN</td>\n",
              "      <td>NaN</td>\n",
              "      <td>2013-06-08T18:30:00Z</td>\n",
              "      <td>NaN</td>\n",
              "      <td>False</td>\n",
              "      <td>True</td>\n",
              "      <td>NaN</td>\n",
              "      <td>NaN</td>\n",
              "      <td>NaN</td>\n",
              "      <td>34.585595</td>\n",
              "      <td>Angeles National Forest</td>\n",
              "      <td>-118.423176</td>\n",
              "      <td>False</td>\n",
              "      <td>Powerhouse Fire</td>\n",
              "      <td>100.0</td>\n",
              "      <td>NaN</td>\n",
              "      <td>True</td>\n",
              "      <td>The Powerhouse Fire burned in May and June 201...</td>\n",
              "      <td>Powerhouse Fire, May 2013, June 2013, Angeles ...</td>\n",
              "      <td>2013-05-30T15:28:00Z</td>\n",
              "      <td>Finalized</td>\n",
              "      <td>NaN</td>\n",
              "      <td>NaN</td>\n",
              "      <td>NaN</td>\n",
              "      <td>NaN</td>\n",
              "      <td>bf37805e-1cc2-4208-9972-753e47874c87</td>\n",
              "      <td>2013-06-08T18:30:00Z</td>\n",
              "      <td>NaN</td>\n",
              "    </tr>\n",
              "    <tr>\n",
              "      <th>2</th>\n",
              "      <td>27531.0</td>\n",
              "      <td>False</td>\n",
              "      <td>CAL FIRE Riverside Unit / San Bernardino Natio...</td>\n",
              "      <td>NaN</td>\n",
              "      <td>2013</td>\n",
              "      <td>True</td>\n",
              "      <td>/incidents/2013/7/15/mountain-fire/</td>\n",
              "      <td>NaN</td>\n",
              "      <td>NaN</td>\n",
              "      <td>Riverside</td>\n",
              "      <td>33</td>\n",
              "      <td>NaN</td>\n",
              "      <td>NaN</td>\n",
              "      <td>NaN</td>\n",
              "      <td>2013-07-30T18:00:00Z</td>\n",
              "      <td>NaN</td>\n",
              "      <td>False</td>\n",
              "      <td>True</td>\n",
              "      <td>NaN</td>\n",
              "      <td>NaN</td>\n",
              "      <td>NaN</td>\n",
              "      <td>33.709500</td>\n",
              "      <td>Hwy 243 &amp; Hwy 74 near Mountain Center</td>\n",
              "      <td>-116.728850</td>\n",
              "      <td>False</td>\n",
              "      <td>Mountain Fire</td>\n",
              "      <td>100.0</td>\n",
              "      <td>NaN</td>\n",
              "      <td>True</td>\n",
              "      <td>The Mountain Fire burned in July 2013 off High...</td>\n",
              "      <td>Mountain Fire, July 2013, Highway 243, Highway...</td>\n",
              "      <td>2013-07-15T13:43:00Z</td>\n",
              "      <td>Finalized</td>\n",
              "      <td>NaN</td>\n",
              "      <td>NaN</td>\n",
              "      <td>NaN</td>\n",
              "      <td>NaN</td>\n",
              "      <td>a3149fec-4d48-427c-8b2c-59e8b79d59db</td>\n",
              "      <td>2013-07-30T18:00:00Z</td>\n",
              "      <td>NaN</td>\n",
              "    </tr>\n",
              "    <tr>\n",
              "      <th>3</th>\n",
              "      <td>27440.0</td>\n",
              "      <td>False</td>\n",
              "      <td>Tahoe National Forest</td>\n",
              "      <td>NaN</td>\n",
              "      <td>2013</td>\n",
              "      <td>False</td>\n",
              "      <td>/incidents/2013/8/10/american-fire/</td>\n",
              "      <td>NaN</td>\n",
              "      <td>NaN</td>\n",
              "      <td>Placer</td>\n",
              "      <td>31</td>\n",
              "      <td>NaN</td>\n",
              "      <td>NaN</td>\n",
              "      <td>NaN</td>\n",
              "      <td>2013-08-30T08:00:00Z</td>\n",
              "      <td>NaN</td>\n",
              "      <td>False</td>\n",
              "      <td>True</td>\n",
              "      <td>NaN</td>\n",
              "      <td>NaN</td>\n",
              "      <td>NaN</td>\n",
              "      <td>39.120000</td>\n",
              "      <td>Deadwood Ridge, northeast of Foresthill</td>\n",
              "      <td>-120.650000</td>\n",
              "      <td>False</td>\n",
              "      <td>American Fire</td>\n",
              "      <td>100.0</td>\n",
              "      <td>NaN</td>\n",
              "      <td>True</td>\n",
              "      <td>The American Fire burned in August 2013 off De...</td>\n",
              "      <td>American Fire, August 2013, Deadwood Ridge, Fo...</td>\n",
              "      <td>2013-08-10T16:30:00Z</td>\n",
              "      <td>Finalized</td>\n",
              "      <td>NaN</td>\n",
              "      <td>NaN</td>\n",
              "      <td>NaN</td>\n",
              "      <td>NaN</td>\n",
              "      <td>8213f5c7-34fa-403b-a4bc-da2ace6e6625</td>\n",
              "      <td>2013-08-30T08:00:00Z</td>\n",
              "      <td>NaN</td>\n",
              "    </tr>\n",
              "    <tr>\n",
              "      <th>4</th>\n",
              "      <td>24251.0</td>\n",
              "      <td>False</td>\n",
              "      <td>Ventura County Fire/CAL FIRE</td>\n",
              "      <td>NaN</td>\n",
              "      <td>2013</td>\n",
              "      <td>True</td>\n",
              "      <td>/incidents/2013/5/2/springs-fire/</td>\n",
              "      <td>Acreage has been reduced based upon more accur...</td>\n",
              "      <td>NaN</td>\n",
              "      <td>Ventura</td>\n",
              "      <td>56</td>\n",
              "      <td>47.0</td>\n",
              "      <td>8.0</td>\n",
              "      <td>117.0</td>\n",
              "      <td>2013-05-11T06:30:00Z</td>\n",
              "      <td>NaN</td>\n",
              "      <td>False</td>\n",
              "      <td>True</td>\n",
              "      <td>NaN</td>\n",
              "      <td>11.0</td>\n",
              "      <td>10.0</td>\n",
              "      <td>0.000000</td>\n",
              "      <td>Southbound Highway 101 at Camarillo Springs Ro...</td>\n",
              "      <td>0.000000</td>\n",
              "      <td>True</td>\n",
              "      <td>Springs Fire</td>\n",
              "      <td>100.0</td>\n",
              "      <td>2167.0</td>\n",
              "      <td>True</td>\n",
              "      <td>The Springs Fire burned in May 2013, Southboun...</td>\n",
              "      <td>Springs Fire, May 2013, Highway 101, Camarillo...</td>\n",
              "      <td>2013-05-02T07:01:00Z</td>\n",
              "      <td>Finalized</td>\n",
              "      <td>6.0</td>\n",
              "      <td>10.0</td>\n",
              "      <td>NaN</td>\n",
              "      <td>NaN</td>\n",
              "      <td>46731fb8-3350-4920-bdf7-910ac0eb715c</td>\n",
              "      <td>2013-05-11T06:30:00Z</td>\n",
              "      <td>11.0</td>\n",
              "    </tr>\n",
              "    <tr>\n",
              "      <th>...</th>\n",
              "      <td>...</td>\n",
              "      <td>...</td>\n",
              "      <td>...</td>\n",
              "      <td>...</td>\n",
              "      <td>...</td>\n",
              "      <td>...</td>\n",
              "      <td>...</td>\n",
              "      <td>...</td>\n",
              "      <td>...</td>\n",
              "      <td>...</td>\n",
              "      <td>...</td>\n",
              "      <td>...</td>\n",
              "      <td>...</td>\n",
              "      <td>...</td>\n",
              "      <td>...</td>\n",
              "      <td>...</td>\n",
              "      <td>...</td>\n",
              "      <td>...</td>\n",
              "      <td>...</td>\n",
              "      <td>...</td>\n",
              "      <td>...</td>\n",
              "      <td>...</td>\n",
              "      <td>...</td>\n",
              "      <td>...</td>\n",
              "      <td>...</td>\n",
              "      <td>...</td>\n",
              "      <td>...</td>\n",
              "      <td>...</td>\n",
              "      <td>...</td>\n",
              "      <td>...</td>\n",
              "      <td>...</td>\n",
              "      <td>...</td>\n",
              "      <td>...</td>\n",
              "      <td>...</td>\n",
              "      <td>...</td>\n",
              "      <td>...</td>\n",
              "      <td>...</td>\n",
              "      <td>...</td>\n",
              "      <td>...</td>\n",
              "      <td>...</td>\n",
              "    </tr>\n",
              "    <tr>\n",
              "      <th>1631</th>\n",
              "      <td>9.0</td>\n",
              "      <td>False</td>\n",
              "      <td>CAL FIRE / Riverside County Fire</td>\n",
              "      <td>NaN</td>\n",
              "      <td>2019</td>\n",
              "      <td>True</td>\n",
              "      <td>/incidents/2019/10/10/eagle-fire/</td>\n",
              "      <td>NaN</td>\n",
              "      <td>NaN</td>\n",
              "      <td>Riverside</td>\n",
              "      <td>33</td>\n",
              "      <td>NaN</td>\n",
              "      <td>NaN</td>\n",
              "      <td>NaN</td>\n",
              "      <td>2019-10-10T18:11:00Z</td>\n",
              "      <td>NaN</td>\n",
              "      <td>False</td>\n",
              "      <td>True</td>\n",
              "      <td>NaN</td>\n",
              "      <td>NaN</td>\n",
              "      <td>NaN</td>\n",
              "      <td>33.827979</td>\n",
              "      <td>Eagle Canyon Rd. and Cajalco Rd., southwest of...</td>\n",
              "      <td>-117.499619</td>\n",
              "      <td>False</td>\n",
              "      <td>Eagle Fire</td>\n",
              "      <td>100.0</td>\n",
              "      <td>NaN</td>\n",
              "      <td>True</td>\n",
              "      <td>The Eagle Fire started on October 10, 2019 nea...</td>\n",
              "      <td>NaN</td>\n",
              "      <td>2019-10-10T12:08:00Z</td>\n",
              "      <td>Finalized</td>\n",
              "      <td>NaN</td>\n",
              "      <td>NaN</td>\n",
              "      <td>NaN</td>\n",
              "      <td>NaN</td>\n",
              "      <td>6e93b252-99a3-4214-9921-238373b17535</td>\n",
              "      <td>2019-10-10T18:11:59.733Z</td>\n",
              "      <td>NaN</td>\n",
              "    </tr>\n",
              "    <tr>\n",
              "      <th>1632</th>\n",
              "      <td>2.0</td>\n",
              "      <td>False</td>\n",
              "      <td>CAL FIRE Nevada-Yuba-Placer Unit</td>\n",
              "      <td>NaN</td>\n",
              "      <td>2019</td>\n",
              "      <td>True</td>\n",
              "      <td>/incidents/2019/6/28/long-fire/</td>\n",
              "      <td>NaN</td>\n",
              "      <td>NaN</td>\n",
              "      <td>Nevada</td>\n",
              "      <td>29</td>\n",
              "      <td>NaN</td>\n",
              "      <td>NaN</td>\n",
              "      <td>NaN</td>\n",
              "      <td>2019-06-28T17:33:00Z</td>\n",
              "      <td>NaN</td>\n",
              "      <td>False</td>\n",
              "      <td>True</td>\n",
              "      <td>NaN</td>\n",
              "      <td>NaN</td>\n",
              "      <td>NaN</td>\n",
              "      <td>39.409722</td>\n",
              "      <td>Off of  Long Point Road and Old Mill Road, Sou...</td>\n",
              "      <td>-121.000556</td>\n",
              "      <td>False</td>\n",
              "      <td>Long Fire</td>\n",
              "      <td>100.0</td>\n",
              "      <td>NaN</td>\n",
              "      <td>True</td>\n",
              "      <td>Long Fire started on June 28, 2019 off of Long...</td>\n",
              "      <td>NaN</td>\n",
              "      <td>2019-06-28T15:03:04Z</td>\n",
              "      <td>Finalized</td>\n",
              "      <td>NaN</td>\n",
              "      <td>NaN</td>\n",
              "      <td>NaN</td>\n",
              "      <td>NaN</td>\n",
              "      <td>b38c0563-b321-431b-9174-6336c5a0d449</td>\n",
              "      <td>2019-06-30T15:52:01.023Z</td>\n",
              "      <td>NaN</td>\n",
              "    </tr>\n",
              "    <tr>\n",
              "      <th>1633</th>\n",
              "      <td>NaN</td>\n",
              "      <td>False</td>\n",
              "      <td>Yolo County Fire Protection District</td>\n",
              "      <td>NaN</td>\n",
              "      <td>2019</td>\n",
              "      <td>False</td>\n",
              "      <td>/incidents/2019/11/25/cashe-fire/</td>\n",
              "      <td>NaN</td>\n",
              "      <td>NaN</td>\n",
              "      <td>Yolo</td>\n",
              "      <td>57</td>\n",
              "      <td>NaN</td>\n",
              "      <td>NaN</td>\n",
              "      <td>NaN</td>\n",
              "      <td>NaN</td>\n",
              "      <td>NaN</td>\n",
              "      <td>False</td>\n",
              "      <td>True</td>\n",
              "      <td>NaN</td>\n",
              "      <td>NaN</td>\n",
              "      <td>NaN</td>\n",
              "      <td>38.734634</td>\n",
              "      <td>County Road 102 and County Road 17, North of W...</td>\n",
              "      <td>-121.729691</td>\n",
              "      <td>False</td>\n",
              "      <td>Cashe Fire</td>\n",
              "      <td>NaN</td>\n",
              "      <td>NaN</td>\n",
              "      <td>True</td>\n",
              "      <td>The Cashe Fire started November 25, 2019 off C...</td>\n",
              "      <td>NaN</td>\n",
              "      <td>2019-11-25T12:02:02Z</td>\n",
              "      <td>Finalized</td>\n",
              "      <td>NaN</td>\n",
              "      <td>NaN</td>\n",
              "      <td>NaN</td>\n",
              "      <td>NaN</td>\n",
              "      <td>9c26f915-1b33-422d-b30a-9eb4da6fd729</td>\n",
              "      <td>2019-12-03T16:35:20.93Z</td>\n",
              "      <td>NaN</td>\n",
              "    </tr>\n",
              "    <tr>\n",
              "      <th>1634</th>\n",
              "      <td>NaN</td>\n",
              "      <td>False</td>\n",
              "      <td>Camp Pendleton Marine Corps Base</td>\n",
              "      <td>NaN</td>\n",
              "      <td>2019</td>\n",
              "      <td>False</td>\n",
              "      <td>/incidents/2019/10/22/oak-fire/</td>\n",
              "      <td>NaN</td>\n",
              "      <td>NaN</td>\n",
              "      <td>San Diego</td>\n",
              "      <td>37</td>\n",
              "      <td>NaN</td>\n",
              "      <td>NaN</td>\n",
              "      <td>NaN</td>\n",
              "      <td>NaN</td>\n",
              "      <td>NaN</td>\n",
              "      <td>False</td>\n",
              "      <td>True</td>\n",
              "      <td>NaN</td>\n",
              "      <td>NaN</td>\n",
              "      <td>NaN</td>\n",
              "      <td>33.351145</td>\n",
              "      <td>Near Basilone Road and Las Pulgas Road, near C...</td>\n",
              "      <td>-117.403719</td>\n",
              "      <td>False</td>\n",
              "      <td>Oak Fire</td>\n",
              "      <td>NaN</td>\n",
              "      <td>NaN</td>\n",
              "      <td>True</td>\n",
              "      <td>The Oak Fire started October 22, 2019 off near...</td>\n",
              "      <td>NaN</td>\n",
              "      <td>2019-10-22T19:20:44Z</td>\n",
              "      <td>Finalized</td>\n",
              "      <td>NaN</td>\n",
              "      <td>NaN</td>\n",
              "      <td>NaN</td>\n",
              "      <td>NaN</td>\n",
              "      <td>7264a106-e0f4-41de-8fd0-3f9110431e28</td>\n",
              "      <td>2019-11-21T12:21:28.58Z</td>\n",
              "      <td>NaN</td>\n",
              "    </tr>\n",
              "    <tr>\n",
              "      <th>1635</th>\n",
              "      <td>NaN</td>\n",
              "      <td>False</td>\n",
              "      <td>Bureau of Indian Affairs</td>\n",
              "      <td>NaN</td>\n",
              "      <td>2019</td>\n",
              "      <td>False</td>\n",
              "      <td>/incidents/2019/10/14/johnson-fire/</td>\n",
              "      <td>As of 10:00 p.m. on 10/16, the fire is 90% con...</td>\n",
              "      <td>NaN</td>\n",
              "      <td>Riverside</td>\n",
              "      <td>33</td>\n",
              "      <td>NaN</td>\n",
              "      <td>NaN</td>\n",
              "      <td>NaN</td>\n",
              "      <td>NaN</td>\n",
              "      <td>NaN</td>\n",
              "      <td>False</td>\n",
              "      <td>False</td>\n",
              "      <td>NaN</td>\n",
              "      <td>NaN</td>\n",
              "      <td>NaN</td>\n",
              "      <td>33.451480</td>\n",
              "      <td>Johnson Street and Ave 82</td>\n",
              "      <td>-116.058980</td>\n",
              "      <td>False</td>\n",
              "      <td>Johnson Fire</td>\n",
              "      <td>NaN</td>\n",
              "      <td>NaN</td>\n",
              "      <td>True</td>\n",
              "      <td>The Johnson Fire started October 14, 2019 off ...</td>\n",
              "      <td>NaN</td>\n",
              "      <td>2019-10-14T15:32:20Z</td>\n",
              "      <td>Inactive</td>\n",
              "      <td>NaN</td>\n",
              "      <td>NaN</td>\n",
              "      <td>NaN</td>\n",
              "      <td>NaN</td>\n",
              "      <td>8bf75401-999f-42bd-8c0a-8db508591545</td>\n",
              "      <td>2019-10-30T10:14:19.58Z</td>\n",
              "      <td>NaN</td>\n",
              "    </tr>\n",
              "  </tbody>\n",
              "</table>\n",
              "<p>1636 rows × 40 columns</p>\n",
              "</div>"
            ],
            "text/plain": [
              "      AcresBurned  Active                                          AdminUnit  \\\n",
              "0        257314.0   False  Stanislaus National Forest/Yosemite National Park   \n",
              "1         30274.0   False  USFS Angeles National Forest/Los Angeles Count...   \n",
              "2         27531.0   False  CAL FIRE Riverside Unit / San Bernardino Natio...   \n",
              "3         27440.0   False                              Tahoe National Forest   \n",
              "4         24251.0   False                       Ventura County Fire/CAL FIRE   \n",
              "...           ...     ...                                                ...   \n",
              "1631          9.0   False                   CAL FIRE / Riverside County Fire   \n",
              "1632          2.0   False                  CAL FIRE Nevada-Yuba-Placer Unit    \n",
              "1633          NaN   False               Yolo County Fire Protection District   \n",
              "1634          NaN   False                   Camp Pendleton Marine Corps Base   \n",
              "1635          NaN   False                           Bureau of Indian Affairs   \n",
              "\n",
              "      AirTankers  ArchiveYear  CalFireIncident  \\\n",
              "0            NaN         2013             True   \n",
              "1            NaN         2013             True   \n",
              "2            NaN         2013             True   \n",
              "3            NaN         2013            False   \n",
              "4            NaN         2013             True   \n",
              "...          ...          ...              ...   \n",
              "1631         NaN         2019             True   \n",
              "1632         NaN         2019             True   \n",
              "1633         NaN         2019            False   \n",
              "1634         NaN         2019            False   \n",
              "1635         NaN         2019            False   \n",
              "\n",
              "                               CanonicalUrl  \\\n",
              "0            /incidents/2013/8/17/rim-fire/   \n",
              "1     /incidents/2013/5/30/powerhouse-fire/   \n",
              "2       /incidents/2013/7/15/mountain-fire/   \n",
              "3       /incidents/2013/8/10/american-fire/   \n",
              "4         /incidents/2013/5/2/springs-fire/   \n",
              "...                                     ...   \n",
              "1631      /incidents/2019/10/10/eagle-fire/   \n",
              "1632        /incidents/2019/6/28/long-fire/   \n",
              "1633      /incidents/2019/11/25/cashe-fire/   \n",
              "1634        /incidents/2019/10/22/oak-fire/   \n",
              "1635    /incidents/2019/10/14/johnson-fire/   \n",
              "\n",
              "                                     ConditionStatement ControlStatement  \\\n",
              "0                                                   NaN              NaN   \n",
              "1                                                   NaN              NaN   \n",
              "2                                                   NaN              NaN   \n",
              "3                                                   NaN              NaN   \n",
              "4     Acreage has been reduced based upon more accur...              NaN   \n",
              "...                                                 ...              ...   \n",
              "1631                                                NaN              NaN   \n",
              "1632                                                NaN              NaN   \n",
              "1633                                                NaN              NaN   \n",
              "1634                                                NaN              NaN   \n",
              "1635  As of 10:00 p.m. on 10/16, the fire is 90% con...              NaN   \n",
              "\n",
              "         Counties CountyIds  CrewsInvolved  Dozers  Engines  \\\n",
              "0        Tuolumne        55            NaN     NaN      NaN   \n",
              "1     Los Angeles        19            NaN     NaN      NaN   \n",
              "2       Riverside        33            NaN     NaN      NaN   \n",
              "3          Placer        31            NaN     NaN      NaN   \n",
              "4         Ventura        56           47.0     8.0    117.0   \n",
              "...           ...       ...            ...     ...      ...   \n",
              "1631    Riverside        33            NaN     NaN      NaN   \n",
              "1632       Nevada        29            NaN     NaN      NaN   \n",
              "1633         Yolo        57            NaN     NaN      NaN   \n",
              "1634    San Diego        37            NaN     NaN      NaN   \n",
              "1635    Riverside        33            NaN     NaN      NaN   \n",
              "\n",
              "              Extinguished  Fatalities  Featured  Final FuelType  Helicopters  \\\n",
              "0     2013-09-06T18:30:00Z         NaN     False   True      NaN          NaN   \n",
              "1     2013-06-08T18:30:00Z         NaN     False   True      NaN          NaN   \n",
              "2     2013-07-30T18:00:00Z         NaN     False   True      NaN          NaN   \n",
              "3     2013-08-30T08:00:00Z         NaN     False   True      NaN          NaN   \n",
              "4     2013-05-11T06:30:00Z         NaN     False   True      NaN         11.0   \n",
              "...                    ...         ...       ...    ...      ...          ...   \n",
              "1631  2019-10-10T18:11:00Z         NaN     False   True      NaN          NaN   \n",
              "1632  2019-06-28T17:33:00Z         NaN     False   True      NaN          NaN   \n",
              "1633                   NaN         NaN     False   True      NaN          NaN   \n",
              "1634                   NaN         NaN     False   True      NaN          NaN   \n",
              "1635                   NaN         NaN     False  False      NaN          NaN   \n",
              "\n",
              "      Injuries   Latitude                                           Location  \\\n",
              "0          NaN  37.857000            3 miles east of Groveland along Hwy 120   \n",
              "1          NaN  34.585595                            Angeles National Forest   \n",
              "2          NaN  33.709500              Hwy 243 & Hwy 74 near Mountain Center   \n",
              "3          NaN  39.120000            Deadwood Ridge, northeast of Foresthill   \n",
              "4         10.0   0.000000  Southbound Highway 101 at Camarillo Springs Ro...   \n",
              "...        ...        ...                                                ...   \n",
              "1631       NaN  33.827979  Eagle Canyon Rd. and Cajalco Rd., southwest of...   \n",
              "1632       NaN  39.409722  Off of  Long Point Road and Old Mill Road, Sou...   \n",
              "1633       NaN  38.734634  County Road 102 and County Road 17, North of W...   \n",
              "1634       NaN  33.351145  Near Basilone Road and Las Pulgas Road, near C...   \n",
              "1635       NaN  33.451480                          Johnson Street and Ave 82   \n",
              "\n",
              "       Longitude  MajorIncident             Name  PercentContained  \\\n",
              "0    -120.086000          False         Rim Fire             100.0   \n",
              "1    -118.423176          False  Powerhouse Fire             100.0   \n",
              "2    -116.728850          False    Mountain Fire             100.0   \n",
              "3    -120.650000          False    American Fire             100.0   \n",
              "4       0.000000           True     Springs Fire             100.0   \n",
              "...          ...            ...              ...               ...   \n",
              "1631 -117.499619          False       Eagle Fire             100.0   \n",
              "1632 -121.000556          False        Long Fire             100.0   \n",
              "1633 -121.729691          False      Cashe Fire                NaN   \n",
              "1634 -117.403719          False         Oak Fire               NaN   \n",
              "1635 -116.058980          False    Johnson Fire                NaN   \n",
              "\n",
              "      PersonnelInvolved  Public  \\\n",
              "0                   NaN    True   \n",
              "1                   NaN    True   \n",
              "2                   NaN    True   \n",
              "3                   NaN    True   \n",
              "4                2167.0    True   \n",
              "...                 ...     ...   \n",
              "1631                NaN    True   \n",
              "1632                NaN    True   \n",
              "1633                NaN    True   \n",
              "1634                NaN    True   \n",
              "1635                NaN    True   \n",
              "\n",
              "                                      SearchDescription  \\\n",
              "0     The Rim Fire was east of Groveland along Highw...   \n",
              "1     The Powerhouse Fire burned in May and June 201...   \n",
              "2     The Mountain Fire burned in July 2013 off High...   \n",
              "3     The American Fire burned in August 2013 off De...   \n",
              "4     The Springs Fire burned in May 2013, Southboun...   \n",
              "...                                                 ...   \n",
              "1631  The Eagle Fire started on October 10, 2019 nea...   \n",
              "1632  Long Fire started on June 28, 2019 off of Long...   \n",
              "1633  The Cashe Fire started November 25, 2019 off C...   \n",
              "1634  The Oak Fire started October 22, 2019 off near...   \n",
              "1635  The Johnson Fire started October 14, 2019 off ...   \n",
              "\n",
              "                                         SearchKeywords               Started  \\\n",
              "0     Rim Fire, Stanislaus National Forest, Yosemite...  2013-08-17T15:25:00Z   \n",
              "1     Powerhouse Fire, May 2013, June 2013, Angeles ...  2013-05-30T15:28:00Z   \n",
              "2     Mountain Fire, July 2013, Highway 243, Highway...  2013-07-15T13:43:00Z   \n",
              "3     American Fire, August 2013, Deadwood Ridge, Fo...  2013-08-10T16:30:00Z   \n",
              "4     Springs Fire, May 2013, Highway 101, Camarillo...  2013-05-02T07:01:00Z   \n",
              "...                                                 ...                   ...   \n",
              "1631                                                NaN  2019-10-10T12:08:00Z   \n",
              "1632                                                NaN  2019-06-28T15:03:04Z   \n",
              "1633                                                NaN  2019-11-25T12:02:02Z   \n",
              "1634                                                NaN  2019-10-22T19:20:44Z   \n",
              "1635                                                NaN  2019-10-14T15:32:20Z   \n",
              "\n",
              "         Status  StructuresDamaged  StructuresDestroyed  StructuresEvacuated  \\\n",
              "0     Finalized                NaN                  NaN                  NaN   \n",
              "1     Finalized                NaN                  NaN                  NaN   \n",
              "2     Finalized                NaN                  NaN                  NaN   \n",
              "3     Finalized                NaN                  NaN                  NaN   \n",
              "4     Finalized                6.0                 10.0                  NaN   \n",
              "...         ...                ...                  ...                  ...   \n",
              "1631  Finalized                NaN                  NaN                  NaN   \n",
              "1632  Finalized                NaN                  NaN                  NaN   \n",
              "1633  Finalized                NaN                  NaN                  NaN   \n",
              "1634  Finalized                NaN                  NaN                  NaN   \n",
              "1635   Inactive                NaN                  NaN                  NaN   \n",
              "\n",
              "      StructuresThreatened                              UniqueId  \\\n",
              "0                      NaN  5fb18d4d-213f-4d83-a179-daaf11939e78   \n",
              "1                      NaN  bf37805e-1cc2-4208-9972-753e47874c87   \n",
              "2                      NaN  a3149fec-4d48-427c-8b2c-59e8b79d59db   \n",
              "3                      NaN  8213f5c7-34fa-403b-a4bc-da2ace6e6625   \n",
              "4                      NaN  46731fb8-3350-4920-bdf7-910ac0eb715c   \n",
              "...                    ...                                   ...   \n",
              "1631                   NaN  6e93b252-99a3-4214-9921-238373b17535   \n",
              "1632                   NaN  b38c0563-b321-431b-9174-6336c5a0d449   \n",
              "1633                   NaN  9c26f915-1b33-422d-b30a-9eb4da6fd729   \n",
              "1634                   NaN  7264a106-e0f4-41de-8fd0-3f9110431e28   \n",
              "1635                   NaN  8bf75401-999f-42bd-8c0a-8db508591545   \n",
              "\n",
              "                       Updated  WaterTenders  \n",
              "0         2013-09-06T18:30:00Z           NaN  \n",
              "1         2013-06-08T18:30:00Z           NaN  \n",
              "2         2013-07-30T18:00:00Z           NaN  \n",
              "3         2013-08-30T08:00:00Z           NaN  \n",
              "4         2013-05-11T06:30:00Z          11.0  \n",
              "...                        ...           ...  \n",
              "1631  2019-10-10T18:11:59.733Z           NaN  \n",
              "1632  2019-06-30T15:52:01.023Z           NaN  \n",
              "1633   2019-12-03T16:35:20.93Z           NaN  \n",
              "1634   2019-11-21T12:21:28.58Z           NaN  \n",
              "1635   2019-10-30T10:14:19.58Z           NaN  \n",
              "\n",
              "[1636 rows x 40 columns]"
            ]
          },
          "metadata": {},
          "execution_count": 15
        }
      ]
    },
    {
      "cell_type": "code",
      "metadata": {
        "colab": {
          "base_uri": "https://localhost:8080/"
        },
        "id": "R1vioGsAuj5j",
        "outputId": "5612320a-17ef-41b4-bf14-03392e4e3f80"
      },
      "source": [
        "df_fire.shape"
      ],
      "execution_count": null,
      "outputs": [
        {
          "output_type": "execute_result",
          "data": {
            "text/plain": [
              "(1636, 40)"
            ]
          },
          "metadata": {},
          "execution_count": 16
        }
      ]
    },
    {
      "cell_type": "code",
      "metadata": {
        "colab": {
          "base_uri": "https://localhost:8080/"
        },
        "id": "UMRdjrl0umDv",
        "outputId": "c1cfd281-63d2-4b68-f81e-600a75e8908e"
      },
      "source": [
        "df_fire.info()"
      ],
      "execution_count": null,
      "outputs": [
        {
          "output_type": "stream",
          "name": "stdout",
          "text": [
            "<class 'pandas.core.frame.DataFrame'>\n",
            "RangeIndex: 1636 entries, 0 to 1635\n",
            "Data columns (total 40 columns):\n",
            " #   Column                Non-Null Count  Dtype  \n",
            "---  ------                --------------  -----  \n",
            " 0   AcresBurned           1633 non-null   float64\n",
            " 1   Active                1636 non-null   bool   \n",
            " 2   AdminUnit             1636 non-null   object \n",
            " 3   AirTankers            28 non-null     float64\n",
            " 4   ArchiveYear           1636 non-null   int64  \n",
            " 5   CalFireIncident       1636 non-null   bool   \n",
            " 6   CanonicalUrl          1636 non-null   object \n",
            " 7   ConditionStatement    284 non-null    object \n",
            " 8   ControlStatement      111 non-null    object \n",
            " 9   Counties              1636 non-null   object \n",
            " 10  CountyIds             1636 non-null   object \n",
            " 11  CrewsInvolved         171 non-null    float64\n",
            " 12  Dozers                123 non-null    float64\n",
            " 13  Engines               191 non-null    float64\n",
            " 14  Extinguished          1577 non-null   object \n",
            " 15  Fatalities            21 non-null     float64\n",
            " 16  Featured              1636 non-null   bool   \n",
            " 17  Final                 1636 non-null   bool   \n",
            " 18  FuelType              12 non-null     object \n",
            " 19  Helicopters           84 non-null     float64\n",
            " 20  Injuries              120 non-null    float64\n",
            " 21  Latitude              1636 non-null   float64\n",
            " 22  Location              1636 non-null   object \n",
            " 23  Longitude             1636 non-null   float64\n",
            " 24  MajorIncident         1636 non-null   bool   \n",
            " 25  Name                  1636 non-null   object \n",
            " 26  PercentContained      1633 non-null   float64\n",
            " 27  PersonnelInvolved     204 non-null    float64\n",
            " 28  Public                1636 non-null   bool   \n",
            " 29  SearchDescription     1619 non-null   object \n",
            " 30  SearchKeywords        1433 non-null   object \n",
            " 31  Started               1636 non-null   object \n",
            " 32  Status                1636 non-null   object \n",
            " 33  StructuresDamaged     67 non-null     float64\n",
            " 34  StructuresDestroyed   175 non-null    float64\n",
            " 35  StructuresEvacuated   0 non-null      float64\n",
            " 36  StructuresThreatened  30 non-null     float64\n",
            " 37  UniqueId              1636 non-null   object \n",
            " 38  Updated               1636 non-null   object \n",
            " 39  WaterTenders          146 non-null    float64\n",
            "dtypes: bool(6), float64(17), int64(1), object(16)\n",
            "memory usage: 444.3+ KB\n"
          ]
        }
      ]
    },
    {
      "cell_type": "code",
      "metadata": {
        "colab": {
          "base_uri": "https://localhost:8080/"
        },
        "id": "n6ApImZcuvGa",
        "outputId": "6da6d6ef-933d-4fdc-dd9c-856e18f1ab2a"
      },
      "source": [
        "df_fire.isna().sum() # checking for missing values"
      ],
      "execution_count": null,
      "outputs": [
        {
          "output_type": "execute_result",
          "data": {
            "text/plain": [
              "AcresBurned                3\n",
              "Active                     0\n",
              "AdminUnit                  0\n",
              "AirTankers              1608\n",
              "ArchiveYear                0\n",
              "CalFireIncident            0\n",
              "CanonicalUrl               0\n",
              "ConditionStatement      1352\n",
              "ControlStatement        1525\n",
              "Counties                   0\n",
              "CountyIds                  0\n",
              "CrewsInvolved           1465\n",
              "Dozers                  1513\n",
              "Engines                 1445\n",
              "Extinguished              59\n",
              "Fatalities              1615\n",
              "Featured                   0\n",
              "Final                      0\n",
              "FuelType                1624\n",
              "Helicopters             1552\n",
              "Injuries                1516\n",
              "Latitude                   0\n",
              "Location                   0\n",
              "Longitude                  0\n",
              "MajorIncident              0\n",
              "Name                       0\n",
              "PercentContained           3\n",
              "PersonnelInvolved       1432\n",
              "Public                     0\n",
              "SearchDescription         17\n",
              "SearchKeywords           203\n",
              "Started                    0\n",
              "Status                     0\n",
              "StructuresDamaged       1569\n",
              "StructuresDestroyed     1461\n",
              "StructuresEvacuated     1636\n",
              "StructuresThreatened    1606\n",
              "UniqueId                   0\n",
              "Updated                    0\n",
              "WaterTenders            1490\n",
              "dtype: int64"
            ]
          },
          "metadata": {},
          "execution_count": 18
        }
      ]
    },
    {
      "cell_type": "markdown",
      "metadata": {
        "id": "OPfQezmGvdMv"
      },
      "source": [
        "for this assignment section working only with AdminUnit, Latitude and Longitude columns which do not have any missing values"
      ]
    },
    {
      "cell_type": "code",
      "metadata": {
        "id": "ETsD146IuzWo"
      },
      "source": [
        "col_name = ['AdminUnit', 'Latitude', 'Longitude']\n",
        "df_Calfire = df_fire[col_name].copy()"
      ],
      "execution_count": null,
      "outputs": []
    },
    {
      "cell_type": "code",
      "metadata": {
        "colab": {
          "base_uri": "https://localhost:8080/",
          "height": 424
        },
        "id": "fvNkd22VvuoV",
        "outputId": "4fd2f81f-6fbd-4d13-d097-89561e92966f"
      },
      "source": [
        "df_Calfire"
      ],
      "execution_count": null,
      "outputs": [
        {
          "output_type": "execute_result",
          "data": {
            "text/html": [
              "<div>\n",
              "<style scoped>\n",
              "    .dataframe tbody tr th:only-of-type {\n",
              "        vertical-align: middle;\n",
              "    }\n",
              "\n",
              "    .dataframe tbody tr th {\n",
              "        vertical-align: top;\n",
              "    }\n",
              "\n",
              "    .dataframe thead th {\n",
              "        text-align: right;\n",
              "    }\n",
              "</style>\n",
              "<table border=\"1\" class=\"dataframe\">\n",
              "  <thead>\n",
              "    <tr style=\"text-align: right;\">\n",
              "      <th></th>\n",
              "      <th>AdminUnit</th>\n",
              "      <th>Latitude</th>\n",
              "      <th>Longitude</th>\n",
              "    </tr>\n",
              "  </thead>\n",
              "  <tbody>\n",
              "    <tr>\n",
              "      <th>0</th>\n",
              "      <td>Stanislaus National Forest/Yosemite National Park</td>\n",
              "      <td>37.857000</td>\n",
              "      <td>-120.086000</td>\n",
              "    </tr>\n",
              "    <tr>\n",
              "      <th>1</th>\n",
              "      <td>USFS Angeles National Forest/Los Angeles Count...</td>\n",
              "      <td>34.585595</td>\n",
              "      <td>-118.423176</td>\n",
              "    </tr>\n",
              "    <tr>\n",
              "      <th>2</th>\n",
              "      <td>CAL FIRE Riverside Unit / San Bernardino Natio...</td>\n",
              "      <td>33.709500</td>\n",
              "      <td>-116.728850</td>\n",
              "    </tr>\n",
              "    <tr>\n",
              "      <th>3</th>\n",
              "      <td>Tahoe National Forest</td>\n",
              "      <td>39.120000</td>\n",
              "      <td>-120.650000</td>\n",
              "    </tr>\n",
              "    <tr>\n",
              "      <th>4</th>\n",
              "      <td>Ventura County Fire/CAL FIRE</td>\n",
              "      <td>0.000000</td>\n",
              "      <td>0.000000</td>\n",
              "    </tr>\n",
              "    <tr>\n",
              "      <th>...</th>\n",
              "      <td>...</td>\n",
              "      <td>...</td>\n",
              "      <td>...</td>\n",
              "    </tr>\n",
              "    <tr>\n",
              "      <th>1631</th>\n",
              "      <td>CAL FIRE / Riverside County Fire</td>\n",
              "      <td>33.827979</td>\n",
              "      <td>-117.499619</td>\n",
              "    </tr>\n",
              "    <tr>\n",
              "      <th>1632</th>\n",
              "      <td>CAL FIRE Nevada-Yuba-Placer Unit</td>\n",
              "      <td>39.409722</td>\n",
              "      <td>-121.000556</td>\n",
              "    </tr>\n",
              "    <tr>\n",
              "      <th>1633</th>\n",
              "      <td>Yolo County Fire Protection District</td>\n",
              "      <td>38.734634</td>\n",
              "      <td>-121.729691</td>\n",
              "    </tr>\n",
              "    <tr>\n",
              "      <th>1634</th>\n",
              "      <td>Camp Pendleton Marine Corps Base</td>\n",
              "      <td>33.351145</td>\n",
              "      <td>-117.403719</td>\n",
              "    </tr>\n",
              "    <tr>\n",
              "      <th>1635</th>\n",
              "      <td>Bureau of Indian Affairs</td>\n",
              "      <td>33.451480</td>\n",
              "      <td>-116.058980</td>\n",
              "    </tr>\n",
              "  </tbody>\n",
              "</table>\n",
              "<p>1636 rows × 3 columns</p>\n",
              "</div>"
            ],
            "text/plain": [
              "                                              AdminUnit   Latitude   Longitude\n",
              "0     Stanislaus National Forest/Yosemite National Park  37.857000 -120.086000\n",
              "1     USFS Angeles National Forest/Los Angeles Count...  34.585595 -118.423176\n",
              "2     CAL FIRE Riverside Unit / San Bernardino Natio...  33.709500 -116.728850\n",
              "3                                 Tahoe National Forest  39.120000 -120.650000\n",
              "4                          Ventura County Fire/CAL FIRE   0.000000    0.000000\n",
              "...                                                 ...        ...         ...\n",
              "1631                   CAL FIRE / Riverside County Fire  33.827979 -117.499619\n",
              "1632                  CAL FIRE Nevada-Yuba-Placer Unit   39.409722 -121.000556\n",
              "1633               Yolo County Fire Protection District  38.734634 -121.729691\n",
              "1634                   Camp Pendleton Marine Corps Base  33.351145 -117.403719\n",
              "1635                           Bureau of Indian Affairs  33.451480 -116.058980\n",
              "\n",
              "[1636 rows x 3 columns]"
            ]
          },
          "metadata": {},
          "execution_count": 21
        }
      ]
    },
    {
      "cell_type": "code",
      "metadata": {
        "id": "tGU7WoMxvxEz"
      },
      "source": [
        "# splitting the dataset into 2 - one used to build the tree and query will be run on the second.\n",
        "\n",
        "X, y = train_test_split(df_Calfire, test_size=0.25,shuffle=False)\n",
        "y = y.reset_index(drop=True)"
      ],
      "execution_count": null,
      "outputs": []
    },
    {
      "cell_type": "markdown",
      "metadata": {
        "id": "9OfzJEQPJd0h"
      },
      "source": [
        "## KD tree"
      ]
    },
    {
      "cell_type": "code",
      "metadata": {
        "id": "Jo1ySMjlxFUU"
      },
      "source": [
        "# implementing K-D tree\n",
        "kd = KDTree(X[['Latitude', 'Longitude']].values, metric='euclidean')\n",
        "\n",
        "dist, idx = kd.query(y[['Latitude', 'Longitude']].values, k=2) # k= 2 - neigbors to be returned"
      ],
      "execution_count": null,
      "outputs": []
    },
    {
      "cell_type": "code",
      "metadata": {
        "colab": {
          "base_uri": "https://localhost:8080/"
        },
        "id": "1YZOqtYbGqQ3",
        "outputId": "fb45ce8b-21a5-4f7b-ca94-fd73e9984c93"
      },
      "source": [
        "print(KDTree.valid_metrics)"
      ],
      "execution_count": null,
      "outputs": [
        {
          "output_type": "stream",
          "name": "stdout",
          "text": [
            "['euclidean', 'l2', 'minkowski', 'p', 'manhattan', 'cityblock', 'l1', 'chebyshev', 'infinity']\n"
          ]
        }
      ]
    },
    {
      "cell_type": "markdown",
      "metadata": {
        "id": "wE6Ew3mOGyl-"
      },
      "source": [
        "Merging the results in the y dataset to see the nearest neighbors"
      ]
    },
    {
      "cell_type": "code",
      "metadata": {
        "id": "ZbHJ_lj5x3xx"
      },
      "source": [
        "dist_df = pd.DataFrame(dist, columns=['dist1', 'dist2'])"
      ],
      "execution_count": null,
      "outputs": []
    },
    {
      "cell_type": "code",
      "metadata": {
        "colab": {
          "base_uri": "https://localhost:8080/",
          "height": 424
        },
        "id": "qxVIcnny2Peg",
        "outputId": "00184675-7221-479b-a9c0-e2c146c02472"
      },
      "source": [
        "df_result = y.merge(dist_df, how='outer', left_index=True, right_index=True)\n",
        "df_result"
      ],
      "execution_count": null,
      "outputs": [
        {
          "output_type": "execute_result",
          "data": {
            "text/html": [
              "<div>\n",
              "<style scoped>\n",
              "    .dataframe tbody tr th:only-of-type {\n",
              "        vertical-align: middle;\n",
              "    }\n",
              "\n",
              "    .dataframe tbody tr th {\n",
              "        vertical-align: top;\n",
              "    }\n",
              "\n",
              "    .dataframe thead th {\n",
              "        text-align: right;\n",
              "    }\n",
              "</style>\n",
              "<table border=\"1\" class=\"dataframe\">\n",
              "  <thead>\n",
              "    <tr style=\"text-align: right;\">\n",
              "      <th></th>\n",
              "      <th>AdminUnit</th>\n",
              "      <th>Latitude</th>\n",
              "      <th>Longitude</th>\n",
              "      <th>dist1</th>\n",
              "      <th>dist2</th>\n",
              "    </tr>\n",
              "  </thead>\n",
              "  <tbody>\n",
              "    <tr>\n",
              "      <th>0</th>\n",
              "      <td>CAL FIRE Mendocino Unit</td>\n",
              "      <td>39.279833</td>\n",
              "      <td>-123.258319</td>\n",
              "      <td>0.036804</td>\n",
              "      <td>0.097086</td>\n",
              "    </tr>\n",
              "    <tr>\n",
              "      <th>1</th>\n",
              "      <td>CAL FIRE Amador - El Dorado Unit</td>\n",
              "      <td>38.821280</td>\n",
              "      <td>-121.039180</td>\n",
              "      <td>0.044439</td>\n",
              "      <td>0.079454</td>\n",
              "    </tr>\n",
              "    <tr>\n",
              "      <th>2</th>\n",
              "      <td>CAL FIRE San Benito-Monterey</td>\n",
              "      <td>36.648320</td>\n",
              "      <td>-121.032530</td>\n",
              "      <td>0.013877</td>\n",
              "      <td>0.150191</td>\n",
              "    </tr>\n",
              "    <tr>\n",
              "      <th>3</th>\n",
              "      <td>CAL FIRE Santa Clara Unit/San Jose City Fire &amp;...</td>\n",
              "      <td>37.176944</td>\n",
              "      <td>-121.686944</td>\n",
              "      <td>0.030872</td>\n",
              "      <td>0.059638</td>\n",
              "    </tr>\n",
              "    <tr>\n",
              "      <th>4</th>\n",
              "      <td>CAL FIRE Shasta-Trinity Unit</td>\n",
              "      <td>40.741186</td>\n",
              "      <td>-122.649626</td>\n",
              "      <td>0.037686</td>\n",
              "      <td>0.090728</td>\n",
              "    </tr>\n",
              "    <tr>\n",
              "      <th>...</th>\n",
              "      <td>...</td>\n",
              "      <td>...</td>\n",
              "      <td>...</td>\n",
              "      <td>...</td>\n",
              "      <td>...</td>\n",
              "    </tr>\n",
              "    <tr>\n",
              "      <th>404</th>\n",
              "      <td>CAL FIRE / Riverside County Fire</td>\n",
              "      <td>33.827979</td>\n",
              "      <td>-117.499619</td>\n",
              "      <td>0.030819</td>\n",
              "      <td>0.041702</td>\n",
              "    </tr>\n",
              "    <tr>\n",
              "      <th>405</th>\n",
              "      <td>CAL FIRE Nevada-Yuba-Placer Unit</td>\n",
              "      <td>39.409722</td>\n",
              "      <td>-121.000556</td>\n",
              "      <td>0.047608</td>\n",
              "      <td>0.130996</td>\n",
              "    </tr>\n",
              "    <tr>\n",
              "      <th>406</th>\n",
              "      <td>Yolo County Fire Protection District</td>\n",
              "      <td>38.734634</td>\n",
              "      <td>-121.729691</td>\n",
              "      <td>0.292456</td>\n",
              "      <td>0.297924</td>\n",
              "    </tr>\n",
              "    <tr>\n",
              "      <th>407</th>\n",
              "      <td>Camp Pendleton Marine Corps Base</td>\n",
              "      <td>33.351145</td>\n",
              "      <td>-117.403719</td>\n",
              "      <td>0.005682</td>\n",
              "      <td>0.051282</td>\n",
              "    </tr>\n",
              "    <tr>\n",
              "      <th>408</th>\n",
              "      <td>Bureau of Indian Affairs</td>\n",
              "      <td>33.451480</td>\n",
              "      <td>-116.058980</td>\n",
              "      <td>0.118180</td>\n",
              "      <td>0.128584</td>\n",
              "    </tr>\n",
              "  </tbody>\n",
              "</table>\n",
              "<p>409 rows × 5 columns</p>\n",
              "</div>"
            ],
            "text/plain": [
              "                                             AdminUnit   Latitude   Longitude  \\\n",
              "0                              CAL FIRE Mendocino Unit  39.279833 -123.258319   \n",
              "1                     CAL FIRE Amador - El Dorado Unit  38.821280 -121.039180   \n",
              "2                         CAL FIRE San Benito-Monterey  36.648320 -121.032530   \n",
              "3    CAL FIRE Santa Clara Unit/San Jose City Fire &...  37.176944 -121.686944   \n",
              "4                         CAL FIRE Shasta-Trinity Unit  40.741186 -122.649626   \n",
              "..                                                 ...        ...         ...   \n",
              "404                   CAL FIRE / Riverside County Fire  33.827979 -117.499619   \n",
              "405                  CAL FIRE Nevada-Yuba-Placer Unit   39.409722 -121.000556   \n",
              "406               Yolo County Fire Protection District  38.734634 -121.729691   \n",
              "407                   Camp Pendleton Marine Corps Base  33.351145 -117.403719   \n",
              "408                           Bureau of Indian Affairs  33.451480 -116.058980   \n",
              "\n",
              "        dist1     dist2  \n",
              "0    0.036804  0.097086  \n",
              "1    0.044439  0.079454  \n",
              "2    0.013877  0.150191  \n",
              "3    0.030872  0.059638  \n",
              "4    0.037686  0.090728  \n",
              "..        ...       ...  \n",
              "404  0.030819  0.041702  \n",
              "405  0.047608  0.130996  \n",
              "406  0.292456  0.297924  \n",
              "407  0.005682  0.051282  \n",
              "408  0.118180  0.128584  \n",
              "\n",
              "[409 rows x 5 columns]"
            ]
          },
          "metadata": {},
          "execution_count": 89
        }
      ]
    },
    {
      "cell_type": "code",
      "metadata": {
        "colab": {
          "base_uri": "https://localhost:8080/",
          "height": 424
        },
        "id": "4Nly-AHD32-A",
        "outputId": "6c58285d-ff54-4a4c-bf1c-c6db60a32fc8"
      },
      "source": [
        "adminUnit_df = pd.DataFrame(idx, columns=['unit1', 'unit2'])\n",
        "df_result = df_result.merge(adminUnit_df, how='outer', left_index=True, right_index=True)\n",
        "df_result"
      ],
      "execution_count": null,
      "outputs": [
        {
          "output_type": "execute_result",
          "data": {
            "text/html": [
              "<div>\n",
              "<style scoped>\n",
              "    .dataframe tbody tr th:only-of-type {\n",
              "        vertical-align: middle;\n",
              "    }\n",
              "\n",
              "    .dataframe tbody tr th {\n",
              "        vertical-align: top;\n",
              "    }\n",
              "\n",
              "    .dataframe thead th {\n",
              "        text-align: right;\n",
              "    }\n",
              "</style>\n",
              "<table border=\"1\" class=\"dataframe\">\n",
              "  <thead>\n",
              "    <tr style=\"text-align: right;\">\n",
              "      <th></th>\n",
              "      <th>AdminUnit</th>\n",
              "      <th>Latitude</th>\n",
              "      <th>Longitude</th>\n",
              "      <th>dist1</th>\n",
              "      <th>dist2</th>\n",
              "      <th>unit1</th>\n",
              "      <th>unit2</th>\n",
              "    </tr>\n",
              "  </thead>\n",
              "  <tbody>\n",
              "    <tr>\n",
              "      <th>0</th>\n",
              "      <td>CAL FIRE Mendocino Unit</td>\n",
              "      <td>39.279833</td>\n",
              "      <td>-123.258319</td>\n",
              "      <td>0.036804</td>\n",
              "      <td>0.097086</td>\n",
              "      <td>700</td>\n",
              "      <td>631</td>\n",
              "    </tr>\n",
              "    <tr>\n",
              "      <th>1</th>\n",
              "      <td>CAL FIRE Amador - El Dorado Unit</td>\n",
              "      <td>38.821280</td>\n",
              "      <td>-121.039180</td>\n",
              "      <td>0.044439</td>\n",
              "      <td>0.079454</td>\n",
              "      <td>557</td>\n",
              "      <td>836</td>\n",
              "    </tr>\n",
              "    <tr>\n",
              "      <th>2</th>\n",
              "      <td>CAL FIRE San Benito-Monterey</td>\n",
              "      <td>36.648320</td>\n",
              "      <td>-121.032530</td>\n",
              "      <td>0.013877</td>\n",
              "      <td>0.150191</td>\n",
              "      <td>1147</td>\n",
              "      <td>539</td>\n",
              "    </tr>\n",
              "    <tr>\n",
              "      <th>3</th>\n",
              "      <td>CAL FIRE Santa Clara Unit/San Jose City Fire &amp;...</td>\n",
              "      <td>37.176944</td>\n",
              "      <td>-121.686944</td>\n",
              "      <td>0.030872</td>\n",
              "      <td>0.059638</td>\n",
              "      <td>813</td>\n",
              "      <td>592</td>\n",
              "    </tr>\n",
              "    <tr>\n",
              "      <th>4</th>\n",
              "      <td>CAL FIRE Shasta-Trinity Unit</td>\n",
              "      <td>40.741186</td>\n",
              "      <td>-122.649626</td>\n",
              "      <td>0.037686</td>\n",
              "      <td>0.090728</td>\n",
              "      <td>985</td>\n",
              "      <td>1058</td>\n",
              "    </tr>\n",
              "    <tr>\n",
              "      <th>...</th>\n",
              "      <td>...</td>\n",
              "      <td>...</td>\n",
              "      <td>...</td>\n",
              "      <td>...</td>\n",
              "      <td>...</td>\n",
              "      <td>...</td>\n",
              "      <td>...</td>\n",
              "    </tr>\n",
              "    <tr>\n",
              "      <th>404</th>\n",
              "      <td>CAL FIRE / Riverside County Fire</td>\n",
              "      <td>33.827979</td>\n",
              "      <td>-117.499619</td>\n",
              "      <td>0.030819</td>\n",
              "      <td>0.041702</td>\n",
              "      <td>753</td>\n",
              "      <td>1018</td>\n",
              "    </tr>\n",
              "    <tr>\n",
              "      <th>405</th>\n",
              "      <td>CAL FIRE Nevada-Yuba-Placer Unit</td>\n",
              "      <td>39.409722</td>\n",
              "      <td>-121.000556</td>\n",
              "      <td>0.047608</td>\n",
              "      <td>0.130996</td>\n",
              "      <td>1027</td>\n",
              "      <td>115</td>\n",
              "    </tr>\n",
              "    <tr>\n",
              "      <th>406</th>\n",
              "      <td>Yolo County Fire Protection District</td>\n",
              "      <td>38.734634</td>\n",
              "      <td>-121.729691</td>\n",
              "      <td>0.292456</td>\n",
              "      <td>0.297924</td>\n",
              "      <td>1119</td>\n",
              "      <td>1118</td>\n",
              "    </tr>\n",
              "    <tr>\n",
              "      <th>407</th>\n",
              "      <td>Camp Pendleton Marine Corps Base</td>\n",
              "      <td>33.351145</td>\n",
              "      <td>-117.403719</td>\n",
              "      <td>0.005682</td>\n",
              "      <td>0.051282</td>\n",
              "      <td>697</td>\n",
              "      <td>692</td>\n",
              "    </tr>\n",
              "    <tr>\n",
              "      <th>408</th>\n",
              "      <td>Bureau of Indian Affairs</td>\n",
              "      <td>33.451480</td>\n",
              "      <td>-116.058980</td>\n",
              "      <td>0.118180</td>\n",
              "      <td>0.128584</td>\n",
              "      <td>1005</td>\n",
              "      <td>132</td>\n",
              "    </tr>\n",
              "  </tbody>\n",
              "</table>\n",
              "<p>409 rows × 7 columns</p>\n",
              "</div>"
            ],
            "text/plain": [
              "                                             AdminUnit   Latitude   Longitude  \\\n",
              "0                              CAL FIRE Mendocino Unit  39.279833 -123.258319   \n",
              "1                     CAL FIRE Amador - El Dorado Unit  38.821280 -121.039180   \n",
              "2                         CAL FIRE San Benito-Monterey  36.648320 -121.032530   \n",
              "3    CAL FIRE Santa Clara Unit/San Jose City Fire &...  37.176944 -121.686944   \n",
              "4                         CAL FIRE Shasta-Trinity Unit  40.741186 -122.649626   \n",
              "..                                                 ...        ...         ...   \n",
              "404                   CAL FIRE / Riverside County Fire  33.827979 -117.499619   \n",
              "405                  CAL FIRE Nevada-Yuba-Placer Unit   39.409722 -121.000556   \n",
              "406               Yolo County Fire Protection District  38.734634 -121.729691   \n",
              "407                   Camp Pendleton Marine Corps Base  33.351145 -117.403719   \n",
              "408                           Bureau of Indian Affairs  33.451480 -116.058980   \n",
              "\n",
              "        dist1     dist2  unit1  unit2  \n",
              "0    0.036804  0.097086    700    631  \n",
              "1    0.044439  0.079454    557    836  \n",
              "2    0.013877  0.150191   1147    539  \n",
              "3    0.030872  0.059638    813    592  \n",
              "4    0.037686  0.090728    985   1058  \n",
              "..        ...       ...    ...    ...  \n",
              "404  0.030819  0.041702    753   1018  \n",
              "405  0.047608  0.130996   1027    115  \n",
              "406  0.292456  0.297924   1119   1118  \n",
              "407  0.005682  0.051282    697    692  \n",
              "408  0.118180  0.128584   1005    132  \n",
              "\n",
              "[409 rows x 7 columns]"
            ]
          },
          "metadata": {},
          "execution_count": 90
        }
      ]
    },
    {
      "cell_type": "code",
      "metadata": {
        "id": "EJ34_gWs4ecp"
      },
      "source": [
        "# get the name of the admin unit from X dataset based on index\n",
        "def get_adminunit(ind):\n",
        "  val = X.iloc[ind,:]\n",
        "  au = val[0]\n",
        "  return au\n"
      ],
      "execution_count": null,
      "outputs": []
    },
    {
      "cell_type": "code",
      "metadata": {
        "id": "dD2wc6_0FIzM"
      },
      "source": [
        "df_result['adminUnit1'] = df_result['unit1'].apply(get_adminunit)"
      ],
      "execution_count": null,
      "outputs": []
    },
    {
      "cell_type": "code",
      "metadata": {
        "id": "6Y1gy3neFiiY"
      },
      "source": [
        "df_result['adminUnit2'] = df_result['unit2'].apply(get_adminunit)"
      ],
      "execution_count": null,
      "outputs": []
    },
    {
      "cell_type": "code",
      "metadata": {
        "id": "QN-bCnaBGafK"
      },
      "source": [
        "df_result.drop(columns=['unit1','unit2'],inplace=True)"
      ],
      "execution_count": null,
      "outputs": []
    },
    {
      "cell_type": "code",
      "metadata": {
        "colab": {
          "base_uri": "https://localhost:8080/",
          "height": 520
        },
        "id": "DVLUoW4OF6CK",
        "outputId": "665294b2-9172-455d-825f-5bbd89305d57"
      },
      "source": [
        "df_result.head(15)"
      ],
      "execution_count": null,
      "outputs": [
        {
          "output_type": "execute_result",
          "data": {
            "text/html": [
              "<div>\n",
              "<style scoped>\n",
              "    .dataframe tbody tr th:only-of-type {\n",
              "        vertical-align: middle;\n",
              "    }\n",
              "\n",
              "    .dataframe tbody tr th {\n",
              "        vertical-align: top;\n",
              "    }\n",
              "\n",
              "    .dataframe thead th {\n",
              "        text-align: right;\n",
              "    }\n",
              "</style>\n",
              "<table border=\"1\" class=\"dataframe\">\n",
              "  <thead>\n",
              "    <tr style=\"text-align: right;\">\n",
              "      <th></th>\n",
              "      <th>AdminUnit</th>\n",
              "      <th>Latitude</th>\n",
              "      <th>Longitude</th>\n",
              "      <th>dist1</th>\n",
              "      <th>dist2</th>\n",
              "      <th>adminUnit1</th>\n",
              "      <th>adminUnit2</th>\n",
              "    </tr>\n",
              "  </thead>\n",
              "  <tbody>\n",
              "    <tr>\n",
              "      <th>0</th>\n",
              "      <td>CAL FIRE Mendocino Unit</td>\n",
              "      <td>39.279833</td>\n",
              "      <td>-123.258319</td>\n",
              "      <td>0.036804</td>\n",
              "      <td>0.097086</td>\n",
              "      <td>CAL FIRE Mendocino Unit</td>\n",
              "      <td>CAL FIRE Mendocinio Unit</td>\n",
              "    </tr>\n",
              "    <tr>\n",
              "      <th>1</th>\n",
              "      <td>CAL FIRE Amador - El Dorado Unit</td>\n",
              "      <td>38.821280</td>\n",
              "      <td>-121.039180</td>\n",
              "      <td>0.044439</td>\n",
              "      <td>0.079454</td>\n",
              "      <td>CAL FIRE Amador-El Dorado Unit</td>\n",
              "      <td>CAL FIRE Amador-El Dorado Unit</td>\n",
              "    </tr>\n",
              "    <tr>\n",
              "      <th>2</th>\n",
              "      <td>CAL FIRE San Benito-Monterey</td>\n",
              "      <td>36.648320</td>\n",
              "      <td>-121.032530</td>\n",
              "      <td>0.013877</td>\n",
              "      <td>0.150191</td>\n",
              "      <td>CAL FIRE San Benito-Monterey</td>\n",
              "      <td>CAL FIRE San Benito Monterey Unit</td>\n",
              "    </tr>\n",
              "    <tr>\n",
              "      <th>3</th>\n",
              "      <td>CAL FIRE Santa Clara Unit/San Jose City Fire &amp;...</td>\n",
              "      <td>37.176944</td>\n",
              "      <td>-121.686944</td>\n",
              "      <td>0.030872</td>\n",
              "      <td>0.059638</td>\n",
              "      <td>CAL FIRE Santa Clara Unit</td>\n",
              "      <td>CAL FIRE Santa Clara Unit</td>\n",
              "    </tr>\n",
              "    <tr>\n",
              "      <th>4</th>\n",
              "      <td>CAL FIRE Shasta-Trinity Unit</td>\n",
              "      <td>40.741186</td>\n",
              "      <td>-122.649626</td>\n",
              "      <td>0.037686</td>\n",
              "      <td>0.090728</td>\n",
              "      <td>CAL FIRE Siskiyou Unit</td>\n",
              "      <td>Unified Command: CAL FIRE Shasta-Trinity Unit,...</td>\n",
              "    </tr>\n",
              "    <tr>\n",
              "      <th>5</th>\n",
              "      <td>CAL FIRE / Riverside County Fire</td>\n",
              "      <td>33.563490</td>\n",
              "      <td>-116.732032</td>\n",
              "      <td>0.082713</td>\n",
              "      <td>0.093004</td>\n",
              "      <td>San Bernardino National Forest</td>\n",
              "      <td>CAL FIRE/Riverside County Fire/San Bernardino ...</td>\n",
              "    </tr>\n",
              "    <tr>\n",
              "      <th>6</th>\n",
              "      <td>Klamath National Forest</td>\n",
              "      <td>41.833590</td>\n",
              "      <td>-122.992720</td>\n",
              "      <td>0.126484</td>\n",
              "      <td>0.167671</td>\n",
              "      <td>USFS Klamath National Forest</td>\n",
              "      <td>Rogue-River-Siskiyou National Forest</td>\n",
              "    </tr>\n",
              "    <tr>\n",
              "      <th>7</th>\n",
              "      <td>CAL FIRE Santa Clara Unit</td>\n",
              "      <td>37.327440</td>\n",
              "      <td>-121.109030</td>\n",
              "      <td>0.113746</td>\n",
              "      <td>0.114004</td>\n",
              "      <td>CAL FIRE Madera-Mariposa-Merced Unit</td>\n",
              "      <td>CAL FIRE Madera-Mariposa-Merced Unit</td>\n",
              "    </tr>\n",
              "    <tr>\n",
              "      <th>8</th>\n",
              "      <td>Kern County Fire Department</td>\n",
              "      <td>34.860220</td>\n",
              "      <td>-118.878810</td>\n",
              "      <td>0.046064</td>\n",
              "      <td>0.069900</td>\n",
              "      <td>CAL FIRE / Kern County Fire / State Parks / US...</td>\n",
              "      <td>Kern County Fire</td>\n",
              "    </tr>\n",
              "    <tr>\n",
              "      <th>9</th>\n",
              "      <td>Los Padres National Forest</td>\n",
              "      <td>34.537650</td>\n",
              "      <td>-118.754950</td>\n",
              "      <td>0.127284</td>\n",
              "      <td>0.149062</td>\n",
              "      <td>Los Angeles County Fire</td>\n",
              "      <td>Unified Command LA County Fire and USFS</td>\n",
              "    </tr>\n",
              "    <tr>\n",
              "      <th>10</th>\n",
              "      <td>CAL FIRE Amador - El Dorado Unit</td>\n",
              "      <td>38.240330</td>\n",
              "      <td>-121.091990</td>\n",
              "      <td>0.048008</td>\n",
              "      <td>0.077782</td>\n",
              "      <td>CAL FIRE Amador-El Dorado Unit</td>\n",
              "      <td>CAL FIRE Amador El-Dorado</td>\n",
              "    </tr>\n",
              "    <tr>\n",
              "      <th>11</th>\n",
              "      <td>CAL FIRE Tehama - Glenn Unit</td>\n",
              "      <td>40.346652</td>\n",
              "      <td>-122.308479</td>\n",
              "      <td>0.102371</td>\n",
              "      <td>0.107444</td>\n",
              "      <td>CAL FIRE Tehama-Glenn Unit</td>\n",
              "      <td>CAL FIRE Shasta-Trinity Unit</td>\n",
              "    </tr>\n",
              "    <tr>\n",
              "      <th>12</th>\n",
              "      <td>CAL FIRE Sonoma-Lake-Napa Unit</td>\n",
              "      <td>38.827500</td>\n",
              "      <td>-122.362500</td>\n",
              "      <td>0.124936</td>\n",
              "      <td>0.124936</td>\n",
              "      <td>CAL FIRE Sonoma-Lake-Napa Unit</td>\n",
              "      <td>CAL FIRE Sonoma-Lake-Napa Unit</td>\n",
              "    </tr>\n",
              "    <tr>\n",
              "      <th>13</th>\n",
              "      <td>CAL FIRE Madera-Mariposa-Merced</td>\n",
              "      <td>37.146630</td>\n",
              "      <td>-119.912230</td>\n",
              "      <td>0.103280</td>\n",
              "      <td>0.103495</td>\n",
              "      <td>CAL FIRE Madera-Mariposa-Merced Unit</td>\n",
              "      <td>CAL FIRE Madera-Mariposa-Merced Unit</td>\n",
              "    </tr>\n",
              "    <tr>\n",
              "      <th>14</th>\n",
              "      <td>CAL FIRE San Luis Obispo Unit</td>\n",
              "      <td>35.583540</td>\n",
              "      <td>-120.624135</td>\n",
              "      <td>0.064591</td>\n",
              "      <td>0.072357</td>\n",
              "      <td>CAL FIRE San Luis Obispo Unit</td>\n",
              "      <td>CAL FIRE San Luis Obispo Unit</td>\n",
              "    </tr>\n",
              "  </tbody>\n",
              "</table>\n",
              "</div>"
            ],
            "text/plain": [
              "                                            AdminUnit   Latitude   Longitude  \\\n",
              "0                             CAL FIRE Mendocino Unit  39.279833 -123.258319   \n",
              "1                    CAL FIRE Amador - El Dorado Unit  38.821280 -121.039180   \n",
              "2                        CAL FIRE San Benito-Monterey  36.648320 -121.032530   \n",
              "3   CAL FIRE Santa Clara Unit/San Jose City Fire &...  37.176944 -121.686944   \n",
              "4                        CAL FIRE Shasta-Trinity Unit  40.741186 -122.649626   \n",
              "5                    CAL FIRE / Riverside County Fire  33.563490 -116.732032   \n",
              "6                             Klamath National Forest  41.833590 -122.992720   \n",
              "7                           CAL FIRE Santa Clara Unit  37.327440 -121.109030   \n",
              "8                         Kern County Fire Department  34.860220 -118.878810   \n",
              "9                          Los Padres National Forest  34.537650 -118.754950   \n",
              "10                   CAL FIRE Amador - El Dorado Unit  38.240330 -121.091990   \n",
              "11                       CAL FIRE Tehama - Glenn Unit  40.346652 -122.308479   \n",
              "12                     CAL FIRE Sonoma-Lake-Napa Unit  38.827500 -122.362500   \n",
              "13                   CAL FIRE Madera-Mariposa-Merced   37.146630 -119.912230   \n",
              "14                      CAL FIRE San Luis Obispo Unit  35.583540 -120.624135   \n",
              "\n",
              "       dist1     dist2                                         adminUnit1  \\\n",
              "0   0.036804  0.097086                            CAL FIRE Mendocino Unit   \n",
              "1   0.044439  0.079454                     CAL FIRE Amador-El Dorado Unit   \n",
              "2   0.013877  0.150191                       CAL FIRE San Benito-Monterey   \n",
              "3   0.030872  0.059638                          CAL FIRE Santa Clara Unit   \n",
              "4   0.037686  0.090728                             CAL FIRE Siskiyou Unit   \n",
              "5   0.082713  0.093004                     San Bernardino National Forest   \n",
              "6   0.126484  0.167671                       USFS Klamath National Forest   \n",
              "7   0.113746  0.114004               CAL FIRE Madera-Mariposa-Merced Unit   \n",
              "8   0.046064  0.069900  CAL FIRE / Kern County Fire / State Parks / US...   \n",
              "9   0.127284  0.149062                            Los Angeles County Fire   \n",
              "10  0.048008  0.077782                     CAL FIRE Amador-El Dorado Unit   \n",
              "11  0.102371  0.107444                         CAL FIRE Tehama-Glenn Unit   \n",
              "12  0.124936  0.124936                     CAL FIRE Sonoma-Lake-Napa Unit   \n",
              "13  0.103280  0.103495               CAL FIRE Madera-Mariposa-Merced Unit   \n",
              "14  0.064591  0.072357                      CAL FIRE San Luis Obispo Unit   \n",
              "\n",
              "                                           adminUnit2  \n",
              "0                            CAL FIRE Mendocinio Unit  \n",
              "1                      CAL FIRE Amador-El Dorado Unit  \n",
              "2                   CAL FIRE San Benito Monterey Unit  \n",
              "3                           CAL FIRE Santa Clara Unit  \n",
              "4   Unified Command: CAL FIRE Shasta-Trinity Unit,...  \n",
              "5   CAL FIRE/Riverside County Fire/San Bernardino ...  \n",
              "6                Rogue-River-Siskiyou National Forest  \n",
              "7                CAL FIRE Madera-Mariposa-Merced Unit  \n",
              "8                                    Kern County Fire  \n",
              "9             Unified Command LA County Fire and USFS  \n",
              "10                          CAL FIRE Amador El-Dorado  \n",
              "11                       CAL FIRE Shasta-Trinity Unit  \n",
              "12                     CAL FIRE Sonoma-Lake-Napa Unit  \n",
              "13               CAL FIRE Madera-Mariposa-Merced Unit  \n",
              "14                      CAL FIRE San Luis Obispo Unit  "
            ]
          },
          "metadata": {},
          "execution_count": 96
        }
      ]
    },
    {
      "cell_type": "markdown",
      "metadata": {
        "id": "vT4Uq3TXGCQ8"
      },
      "source": [
        "The above dataset now has the closets 2 neighboring admin units with the distances using K-D tree."
      ]
    },
    {
      "cell_type": "markdown",
      "metadata": {
        "id": "WXI0MCvUJhtI"
      },
      "source": [
        "## Ball Tree"
      ]
    },
    {
      "cell_type": "code",
      "metadata": {
        "id": "Y1K4H7w3G8Yn"
      },
      "source": [
        "# converting degree coordinates into radian values\n",
        "for column in X[[\"Latitude\", \"Longitude\"]]:\n",
        "    rad = np.deg2rad(X[column].values)\n",
        "    X[f'{column}_rad'] = rad\n",
        "for column in y[[\"Latitude\", \"Longitude\"]]:\n",
        "    rad = np.deg2rad(y[column].values)\n",
        "    y[f'{column}_rad'] = rad"
      ],
      "execution_count": null,
      "outputs": []
    },
    {
      "cell_type": "code",
      "metadata": {
        "colab": {
          "base_uri": "https://localhost:8080/",
          "height": 206
        },
        "id": "LfW6afzXHZ9Z",
        "outputId": "c478e298-2cae-4ffa-fc50-11d0a1696281"
      },
      "source": [
        "X.head()"
      ],
      "execution_count": null,
      "outputs": [
        {
          "output_type": "execute_result",
          "data": {
            "text/html": [
              "<div>\n",
              "<style scoped>\n",
              "    .dataframe tbody tr th:only-of-type {\n",
              "        vertical-align: middle;\n",
              "    }\n",
              "\n",
              "    .dataframe tbody tr th {\n",
              "        vertical-align: top;\n",
              "    }\n",
              "\n",
              "    .dataframe thead th {\n",
              "        text-align: right;\n",
              "    }\n",
              "</style>\n",
              "<table border=\"1\" class=\"dataframe\">\n",
              "  <thead>\n",
              "    <tr style=\"text-align: right;\">\n",
              "      <th></th>\n",
              "      <th>AdminUnit</th>\n",
              "      <th>Latitude</th>\n",
              "      <th>Longitude</th>\n",
              "      <th>Latitude_rad</th>\n",
              "      <th>Longitude_rad</th>\n",
              "    </tr>\n",
              "  </thead>\n",
              "  <tbody>\n",
              "    <tr>\n",
              "      <th>0</th>\n",
              "      <td>Stanislaus National Forest/Yosemite National Park</td>\n",
              "      <td>37.857000</td>\n",
              "      <td>-120.086000</td>\n",
              "      <td>0.660729</td>\n",
              "      <td>-2.095896</td>\n",
              "    </tr>\n",
              "    <tr>\n",
              "      <th>1</th>\n",
              "      <td>USFS Angeles National Forest/Los Angeles Count...</td>\n",
              "      <td>34.585595</td>\n",
              "      <td>-118.423176</td>\n",
              "      <td>0.603633</td>\n",
              "      <td>-2.066874</td>\n",
              "    </tr>\n",
              "    <tr>\n",
              "      <th>2</th>\n",
              "      <td>CAL FIRE Riverside Unit / San Bernardino Natio...</td>\n",
              "      <td>33.709500</td>\n",
              "      <td>-116.728850</td>\n",
              "      <td>0.588342</td>\n",
              "      <td>-2.037303</td>\n",
              "    </tr>\n",
              "    <tr>\n",
              "      <th>3</th>\n",
              "      <td>Tahoe National Forest</td>\n",
              "      <td>39.120000</td>\n",
              "      <td>-120.650000</td>\n",
              "      <td>0.682773</td>\n",
              "      <td>-2.105740</td>\n",
              "    </tr>\n",
              "    <tr>\n",
              "      <th>4</th>\n",
              "      <td>Ventura County Fire/CAL FIRE</td>\n",
              "      <td>0.000000</td>\n",
              "      <td>0.000000</td>\n",
              "      <td>0.000000</td>\n",
              "      <td>0.000000</td>\n",
              "    </tr>\n",
              "  </tbody>\n",
              "</table>\n",
              "</div>"
            ],
            "text/plain": [
              "                                           AdminUnit   Latitude   Longitude  \\\n",
              "0  Stanislaus National Forest/Yosemite National Park  37.857000 -120.086000   \n",
              "1  USFS Angeles National Forest/Los Angeles Count...  34.585595 -118.423176   \n",
              "2  CAL FIRE Riverside Unit / San Bernardino Natio...  33.709500 -116.728850   \n",
              "3                              Tahoe National Forest  39.120000 -120.650000   \n",
              "4                       Ventura County Fire/CAL FIRE   0.000000    0.000000   \n",
              "\n",
              "   Latitude_rad  Longitude_rad  \n",
              "0      0.660729      -2.095896  \n",
              "1      0.603633      -2.066874  \n",
              "2      0.588342      -2.037303  \n",
              "3      0.682773      -2.105740  \n",
              "4      0.000000       0.000000  "
            ]
          },
          "metadata": {},
          "execution_count": 100
        }
      ]
    },
    {
      "cell_type": "code",
      "metadata": {
        "colab": {
          "base_uri": "https://localhost:8080/",
          "height": 206
        },
        "id": "a7sQSfZ3HeKZ",
        "outputId": "7ad5ad3c-044a-40dd-97ba-7a86925115a7"
      },
      "source": [
        "y.head()"
      ],
      "execution_count": null,
      "outputs": [
        {
          "output_type": "execute_result",
          "data": {
            "text/html": [
              "<div>\n",
              "<style scoped>\n",
              "    .dataframe tbody tr th:only-of-type {\n",
              "        vertical-align: middle;\n",
              "    }\n",
              "\n",
              "    .dataframe tbody tr th {\n",
              "        vertical-align: top;\n",
              "    }\n",
              "\n",
              "    .dataframe thead th {\n",
              "        text-align: right;\n",
              "    }\n",
              "</style>\n",
              "<table border=\"1\" class=\"dataframe\">\n",
              "  <thead>\n",
              "    <tr style=\"text-align: right;\">\n",
              "      <th></th>\n",
              "      <th>AdminUnit</th>\n",
              "      <th>Latitude</th>\n",
              "      <th>Longitude</th>\n",
              "      <th>Latitude_rad</th>\n",
              "      <th>Longitude_rad</th>\n",
              "    </tr>\n",
              "  </thead>\n",
              "  <tbody>\n",
              "    <tr>\n",
              "      <th>0</th>\n",
              "      <td>CAL FIRE Mendocino Unit</td>\n",
              "      <td>39.279833</td>\n",
              "      <td>-123.258319</td>\n",
              "      <td>0.685562</td>\n",
              "      <td>-2.151263</td>\n",
              "    </tr>\n",
              "    <tr>\n",
              "      <th>1</th>\n",
              "      <td>CAL FIRE Amador - El Dorado Unit</td>\n",
              "      <td>38.821280</td>\n",
              "      <td>-121.039180</td>\n",
              "      <td>0.677559</td>\n",
              "      <td>-2.112532</td>\n",
              "    </tr>\n",
              "    <tr>\n",
              "      <th>2</th>\n",
              "      <td>CAL FIRE San Benito-Monterey</td>\n",
              "      <td>36.648320</td>\n",
              "      <td>-121.032530</td>\n",
              "      <td>0.639634</td>\n",
              "      <td>-2.112416</td>\n",
              "    </tr>\n",
              "    <tr>\n",
              "      <th>3</th>\n",
              "      <td>CAL FIRE Santa Clara Unit/San Jose City Fire &amp;...</td>\n",
              "      <td>37.176944</td>\n",
              "      <td>-121.686944</td>\n",
              "      <td>0.648860</td>\n",
              "      <td>-2.123838</td>\n",
              "    </tr>\n",
              "    <tr>\n",
              "      <th>4</th>\n",
              "      <td>CAL FIRE Shasta-Trinity Unit</td>\n",
              "      <td>40.741186</td>\n",
              "      <td>-122.649626</td>\n",
              "      <td>0.711068</td>\n",
              "      <td>-2.140640</td>\n",
              "    </tr>\n",
              "  </tbody>\n",
              "</table>\n",
              "</div>"
            ],
            "text/plain": [
              "                                           AdminUnit   Latitude   Longitude  \\\n",
              "0                            CAL FIRE Mendocino Unit  39.279833 -123.258319   \n",
              "1                   CAL FIRE Amador - El Dorado Unit  38.821280 -121.039180   \n",
              "2                       CAL FIRE San Benito-Monterey  36.648320 -121.032530   \n",
              "3  CAL FIRE Santa Clara Unit/San Jose City Fire &...  37.176944 -121.686944   \n",
              "4                       CAL FIRE Shasta-Trinity Unit  40.741186 -122.649626   \n",
              "\n",
              "   Latitude_rad  Longitude_rad  \n",
              "0      0.685562      -2.151263  \n",
              "1      0.677559      -2.112532  \n",
              "2      0.639634      -2.112416  \n",
              "3      0.648860      -2.123838  \n",
              "4      0.711068      -2.140640  "
            ]
          },
          "metadata": {},
          "execution_count": 101
        }
      ]
    },
    {
      "cell_type": "code",
      "metadata": {
        "id": "vbuJ7LdaHgee"
      },
      "source": [
        "bt = BallTree(X[[\"Latitude_rad\", \"Longitude_rad\"]].values, metric='haversine')\n",
        "\n",
        "dist_bt, idx_bt = bt.query(y[[\"Latitude_rad\", \"Longitude_rad\"]].values, k=2)"
      ],
      "execution_count": null,
      "outputs": []
    },
    {
      "cell_type": "code",
      "metadata": {
        "colab": {
          "base_uri": "https://localhost:8080/",
          "height": 424
        },
        "id": "zH9Arc9vH-TD",
        "outputId": "bd4c4dbf-37b4-480d-c615-a7513ad662db"
      },
      "source": [
        "distBT_df = pd.DataFrame(dist_bt, columns=['dist1', 'dist2'])\n",
        "df_res_bt = y.merge(distBT_df, how='outer', left_index=True, right_index=True)\n",
        "adminUnitBT_df = pd.DataFrame(idx_bt, columns=['unit1', 'unit2'])\n",
        "df_res_bt = df_res_bt.merge(adminUnitBT_df, how='outer', left_index=True, right_index=True)\n",
        "df_res_bt"
      ],
      "execution_count": null,
      "outputs": [
        {
          "output_type": "execute_result",
          "data": {
            "text/html": [
              "<div>\n",
              "<style scoped>\n",
              "    .dataframe tbody tr th:only-of-type {\n",
              "        vertical-align: middle;\n",
              "    }\n",
              "\n",
              "    .dataframe tbody tr th {\n",
              "        vertical-align: top;\n",
              "    }\n",
              "\n",
              "    .dataframe thead th {\n",
              "        text-align: right;\n",
              "    }\n",
              "</style>\n",
              "<table border=\"1\" class=\"dataframe\">\n",
              "  <thead>\n",
              "    <tr style=\"text-align: right;\">\n",
              "      <th></th>\n",
              "      <th>AdminUnit</th>\n",
              "      <th>Latitude</th>\n",
              "      <th>Longitude</th>\n",
              "      <th>Latitude_rad</th>\n",
              "      <th>Longitude_rad</th>\n",
              "      <th>dist1</th>\n",
              "      <th>dist2</th>\n",
              "      <th>unit1</th>\n",
              "      <th>unit2</th>\n",
              "    </tr>\n",
              "  </thead>\n",
              "  <tbody>\n",
              "    <tr>\n",
              "      <th>0</th>\n",
              "      <td>CAL FIRE Mendocino Unit</td>\n",
              "      <td>39.279833</td>\n",
              "      <td>-123.258319</td>\n",
              "      <td>0.685562</td>\n",
              "      <td>-2.151263</td>\n",
              "      <td>0.000551</td>\n",
              "      <td>0.001356</td>\n",
              "      <td>700</td>\n",
              "      <td>631</td>\n",
              "    </tr>\n",
              "    <tr>\n",
              "      <th>1</th>\n",
              "      <td>CAL FIRE Amador - El Dorado Unit</td>\n",
              "      <td>38.821280</td>\n",
              "      <td>-121.039180</td>\n",
              "      <td>0.677559</td>\n",
              "      <td>-2.112532</td>\n",
              "      <td>0.000667</td>\n",
              "      <td>0.001170</td>\n",
              "      <td>557</td>\n",
              "      <td>836</td>\n",
              "    </tr>\n",
              "    <tr>\n",
              "      <th>2</th>\n",
              "      <td>CAL FIRE San Benito-Monterey</td>\n",
              "      <td>36.648320</td>\n",
              "      <td>-121.032530</td>\n",
              "      <td>0.639634</td>\n",
              "      <td>-2.112416</td>\n",
              "      <td>0.000202</td>\n",
              "      <td>0.002615</td>\n",
              "      <td>1147</td>\n",
              "      <td>539</td>\n",
              "    </tr>\n",
              "    <tr>\n",
              "      <th>3</th>\n",
              "      <td>CAL FIRE Santa Clara Unit/San Jose City Fire &amp;...</td>\n",
              "      <td>37.176944</td>\n",
              "      <td>-121.686944</td>\n",
              "      <td>0.648860</td>\n",
              "      <td>-2.123838</td>\n",
              "      <td>0.000536</td>\n",
              "      <td>0.001035</td>\n",
              "      <td>813</td>\n",
              "      <td>592</td>\n",
              "    </tr>\n",
              "    <tr>\n",
              "      <th>4</th>\n",
              "      <td>CAL FIRE Shasta-Trinity Unit</td>\n",
              "      <td>40.741186</td>\n",
              "      <td>-122.649626</td>\n",
              "      <td>0.711068</td>\n",
              "      <td>-2.140640</td>\n",
              "      <td>0.000656</td>\n",
              "      <td>0.001555</td>\n",
              "      <td>985</td>\n",
              "      <td>1058</td>\n",
              "    </tr>\n",
              "    <tr>\n",
              "      <th>...</th>\n",
              "      <td>...</td>\n",
              "      <td>...</td>\n",
              "      <td>...</td>\n",
              "      <td>...</td>\n",
              "      <td>...</td>\n",
              "      <td>...</td>\n",
              "      <td>...</td>\n",
              "      <td>...</td>\n",
              "      <td>...</td>\n",
              "    </tr>\n",
              "    <tr>\n",
              "      <th>404</th>\n",
              "      <td>CAL FIRE / Riverside County Fire</td>\n",
              "      <td>33.827979</td>\n",
              "      <td>-117.499619</td>\n",
              "      <td>0.590410</td>\n",
              "      <td>-2.050755</td>\n",
              "      <td>0.000510</td>\n",
              "      <td>0.000726</td>\n",
              "      <td>753</td>\n",
              "      <td>1018</td>\n",
              "    </tr>\n",
              "    <tr>\n",
              "      <th>405</th>\n",
              "      <td>CAL FIRE Nevada-Yuba-Placer Unit</td>\n",
              "      <td>39.409722</td>\n",
              "      <td>-121.000556</td>\n",
              "      <td>0.687829</td>\n",
              "      <td>-2.111858</td>\n",
              "      <td>0.000785</td>\n",
              "      <td>0.001959</td>\n",
              "      <td>1027</td>\n",
              "      <td>115</td>\n",
              "    </tr>\n",
              "    <tr>\n",
              "      <th>406</th>\n",
              "      <td>Yolo County Fire Protection District</td>\n",
              "      <td>38.734634</td>\n",
              "      <td>-121.729691</td>\n",
              "      <td>0.676047</td>\n",
              "      <td>-2.124584</td>\n",
              "      <td>0.004098</td>\n",
              "      <td>0.004329</td>\n",
              "      <td>1119</td>\n",
              "      <td>1118</td>\n",
              "    </tr>\n",
              "    <tr>\n",
              "      <th>407</th>\n",
              "      <td>Camp Pendleton Marine Corps Base</td>\n",
              "      <td>33.351145</td>\n",
              "      <td>-117.403719</td>\n",
              "      <td>0.582087</td>\n",
              "      <td>-2.049081</td>\n",
              "      <td>0.000084</td>\n",
              "      <td>0.000895</td>\n",
              "      <td>697</td>\n",
              "      <td>692</td>\n",
              "    </tr>\n",
              "    <tr>\n",
              "      <th>408</th>\n",
              "      <td>Bureau of Indian Affairs</td>\n",
              "      <td>33.451480</td>\n",
              "      <td>-116.058980</td>\n",
              "      <td>0.583838</td>\n",
              "      <td>-2.025611</td>\n",
              "      <td>0.002053</td>\n",
              "      <td>0.002194</td>\n",
              "      <td>1005</td>\n",
              "      <td>132</td>\n",
              "    </tr>\n",
              "  </tbody>\n",
              "</table>\n",
              "<p>409 rows × 9 columns</p>\n",
              "</div>"
            ],
            "text/plain": [
              "                                             AdminUnit   Latitude   Longitude  \\\n",
              "0                              CAL FIRE Mendocino Unit  39.279833 -123.258319   \n",
              "1                     CAL FIRE Amador - El Dorado Unit  38.821280 -121.039180   \n",
              "2                         CAL FIRE San Benito-Monterey  36.648320 -121.032530   \n",
              "3    CAL FIRE Santa Clara Unit/San Jose City Fire &...  37.176944 -121.686944   \n",
              "4                         CAL FIRE Shasta-Trinity Unit  40.741186 -122.649626   \n",
              "..                                                 ...        ...         ...   \n",
              "404                   CAL FIRE / Riverside County Fire  33.827979 -117.499619   \n",
              "405                  CAL FIRE Nevada-Yuba-Placer Unit   39.409722 -121.000556   \n",
              "406               Yolo County Fire Protection District  38.734634 -121.729691   \n",
              "407                   Camp Pendleton Marine Corps Base  33.351145 -117.403719   \n",
              "408                           Bureau of Indian Affairs  33.451480 -116.058980   \n",
              "\n",
              "     Latitude_rad  Longitude_rad     dist1     dist2  unit1  unit2  \n",
              "0        0.685562      -2.151263  0.000551  0.001356    700    631  \n",
              "1        0.677559      -2.112532  0.000667  0.001170    557    836  \n",
              "2        0.639634      -2.112416  0.000202  0.002615   1147    539  \n",
              "3        0.648860      -2.123838  0.000536  0.001035    813    592  \n",
              "4        0.711068      -2.140640  0.000656  0.001555    985   1058  \n",
              "..            ...            ...       ...       ...    ...    ...  \n",
              "404      0.590410      -2.050755  0.000510  0.000726    753   1018  \n",
              "405      0.687829      -2.111858  0.000785  0.001959   1027    115  \n",
              "406      0.676047      -2.124584  0.004098  0.004329   1119   1118  \n",
              "407      0.582087      -2.049081  0.000084  0.000895    697    692  \n",
              "408      0.583838      -2.025611  0.002053  0.002194   1005    132  \n",
              "\n",
              "[409 rows x 9 columns]"
            ]
          },
          "metadata": {},
          "execution_count": 106
        }
      ]
    },
    {
      "cell_type": "code",
      "metadata": {
        "colab": {
          "base_uri": "https://localhost:8080/",
          "height": 572
        },
        "id": "g3TMZwjbIg1o",
        "outputId": "bacb32b6-6304-45bc-dccd-a15c2f2b593d"
      },
      "source": [
        "df_res_bt['adminUnit1'] = df_res_bt['unit1'].apply(get_adminunit)\n",
        "df_res_bt['adminUnit2'] = df_res_bt['unit2'].apply(get_adminunit)\n",
        "df_res_bt.drop(columns=['unit1','unit2'],inplace=True)\n",
        "df_res_bt.head(15)"
      ],
      "execution_count": null,
      "outputs": [
        {
          "output_type": "execute_result",
          "data": {
            "text/html": [
              "<div>\n",
              "<style scoped>\n",
              "    .dataframe tbody tr th:only-of-type {\n",
              "        vertical-align: middle;\n",
              "    }\n",
              "\n",
              "    .dataframe tbody tr th {\n",
              "        vertical-align: top;\n",
              "    }\n",
              "\n",
              "    .dataframe thead th {\n",
              "        text-align: right;\n",
              "    }\n",
              "</style>\n",
              "<table border=\"1\" class=\"dataframe\">\n",
              "  <thead>\n",
              "    <tr style=\"text-align: right;\">\n",
              "      <th></th>\n",
              "      <th>AdminUnit</th>\n",
              "      <th>Latitude</th>\n",
              "      <th>Longitude</th>\n",
              "      <th>Latitude_rad</th>\n",
              "      <th>Longitude_rad</th>\n",
              "      <th>dist1</th>\n",
              "      <th>dist2</th>\n",
              "      <th>adminUnit1</th>\n",
              "      <th>adminUnit2</th>\n",
              "    </tr>\n",
              "  </thead>\n",
              "  <tbody>\n",
              "    <tr>\n",
              "      <th>0</th>\n",
              "      <td>CAL FIRE Mendocino Unit</td>\n",
              "      <td>39.279833</td>\n",
              "      <td>-123.258319</td>\n",
              "      <td>0.685562</td>\n",
              "      <td>-2.151263</td>\n",
              "      <td>0.000551</td>\n",
              "      <td>0.001356</td>\n",
              "      <td>CAL FIRE Mendocino Unit</td>\n",
              "      <td>CAL FIRE Mendocinio Unit</td>\n",
              "    </tr>\n",
              "    <tr>\n",
              "      <th>1</th>\n",
              "      <td>CAL FIRE Amador - El Dorado Unit</td>\n",
              "      <td>38.821280</td>\n",
              "      <td>-121.039180</td>\n",
              "      <td>0.677559</td>\n",
              "      <td>-2.112532</td>\n",
              "      <td>0.000667</td>\n",
              "      <td>0.001170</td>\n",
              "      <td>CAL FIRE Amador-El Dorado Unit</td>\n",
              "      <td>CAL FIRE Amador-El Dorado Unit</td>\n",
              "    </tr>\n",
              "    <tr>\n",
              "      <th>2</th>\n",
              "      <td>CAL FIRE San Benito-Monterey</td>\n",
              "      <td>36.648320</td>\n",
              "      <td>-121.032530</td>\n",
              "      <td>0.639634</td>\n",
              "      <td>-2.112416</td>\n",
              "      <td>0.000202</td>\n",
              "      <td>0.002615</td>\n",
              "      <td>CAL FIRE San Benito-Monterey</td>\n",
              "      <td>CAL FIRE San Benito Monterey Unit</td>\n",
              "    </tr>\n",
              "    <tr>\n",
              "      <th>3</th>\n",
              "      <td>CAL FIRE Santa Clara Unit/San Jose City Fire &amp;...</td>\n",
              "      <td>37.176944</td>\n",
              "      <td>-121.686944</td>\n",
              "      <td>0.648860</td>\n",
              "      <td>-2.123838</td>\n",
              "      <td>0.000536</td>\n",
              "      <td>0.001035</td>\n",
              "      <td>CAL FIRE Santa Clara Unit</td>\n",
              "      <td>CAL FIRE Santa Clara Unit</td>\n",
              "    </tr>\n",
              "    <tr>\n",
              "      <th>4</th>\n",
              "      <td>CAL FIRE Shasta-Trinity Unit</td>\n",
              "      <td>40.741186</td>\n",
              "      <td>-122.649626</td>\n",
              "      <td>0.711068</td>\n",
              "      <td>-2.140640</td>\n",
              "      <td>0.000656</td>\n",
              "      <td>0.001555</td>\n",
              "      <td>CAL FIRE Siskiyou Unit</td>\n",
              "      <td>Unified Command: CAL FIRE Shasta-Trinity Unit,...</td>\n",
              "    </tr>\n",
              "    <tr>\n",
              "      <th>5</th>\n",
              "      <td>CAL FIRE / Riverside County Fire</td>\n",
              "      <td>33.563490</td>\n",
              "      <td>-116.732032</td>\n",
              "      <td>0.585793</td>\n",
              "      <td>-2.037358</td>\n",
              "      <td>0.001355</td>\n",
              "      <td>0.001422</td>\n",
              "      <td>CAL FIRE/Riverside County Fire/San Bernardino ...</td>\n",
              "      <td>San Bernardino National Forest</td>\n",
              "    </tr>\n",
              "    <tr>\n",
              "      <th>6</th>\n",
              "      <td>Klamath National Forest</td>\n",
              "      <td>41.833590</td>\n",
              "      <td>-122.992720</td>\n",
              "      <td>0.730134</td>\n",
              "      <td>-2.146628</td>\n",
              "      <td>0.001657</td>\n",
              "      <td>0.002861</td>\n",
              "      <td>USFS Klamath National Forest</td>\n",
              "      <td>Rogue-River-Siskiyou National Forest</td>\n",
              "    </tr>\n",
              "    <tr>\n",
              "      <th>7</th>\n",
              "      <td>CAL FIRE Santa Clara Unit</td>\n",
              "      <td>37.327440</td>\n",
              "      <td>-121.109030</td>\n",
              "      <td>0.651487</td>\n",
              "      <td>-2.113751</td>\n",
              "      <td>0.001942</td>\n",
              "      <td>0.001957</td>\n",
              "      <td>CAL FIRE Santa Clara Unit</td>\n",
              "      <td>CAL FIRE Madera-Mariposa-Merced Unit</td>\n",
              "    </tr>\n",
              "    <tr>\n",
              "      <th>8</th>\n",
              "      <td>Kern County Fire Department</td>\n",
              "      <td>34.860220</td>\n",
              "      <td>-118.878810</td>\n",
              "      <td>0.608426</td>\n",
              "      <td>-2.074827</td>\n",
              "      <td>0.000694</td>\n",
              "      <td>0.001089</td>\n",
              "      <td>CAL FIRE / Kern County Fire / State Parks / US...</td>\n",
              "      <td>Kern County Fire</td>\n",
              "    </tr>\n",
              "    <tr>\n",
              "      <th>9</th>\n",
              "      <td>Los Padres National Forest</td>\n",
              "      <td>34.537650</td>\n",
              "      <td>-118.754950</td>\n",
              "      <td>0.602796</td>\n",
              "      <td>-2.072665</td>\n",
              "      <td>0.001838</td>\n",
              "      <td>0.002151</td>\n",
              "      <td>Los Angeles County Fire</td>\n",
              "      <td>Unified Command LA County Fire and USFS</td>\n",
              "    </tr>\n",
              "    <tr>\n",
              "      <th>10</th>\n",
              "      <td>CAL FIRE Amador - El Dorado Unit</td>\n",
              "      <td>38.240330</td>\n",
              "      <td>-121.091990</td>\n",
              "      <td>0.667420</td>\n",
              "      <td>-2.113454</td>\n",
              "      <td>0.000694</td>\n",
              "      <td>0.001325</td>\n",
              "      <td>CAL FIRE Amador-El Dorado Unit</td>\n",
              "      <td>CAL FIRE Amador El-Dorado</td>\n",
              "    </tr>\n",
              "    <tr>\n",
              "      <th>11</th>\n",
              "      <td>CAL FIRE Tehama - Glenn Unit</td>\n",
              "      <td>40.346652</td>\n",
              "      <td>-122.308479</td>\n",
              "      <td>0.704182</td>\n",
              "      <td>-2.134686</td>\n",
              "      <td>0.001401</td>\n",
              "      <td>0.001521</td>\n",
              "      <td>CAL FIRE Tehama-Glenn Unit</td>\n",
              "      <td>CAL FIRE Shasta-Trinity Unit</td>\n",
              "    </tr>\n",
              "    <tr>\n",
              "      <th>12</th>\n",
              "      <td>CAL FIRE Sonoma-Lake-Napa Unit</td>\n",
              "      <td>38.827500</td>\n",
              "      <td>-122.362500</td>\n",
              "      <td>0.677668</td>\n",
              "      <td>-2.135629</td>\n",
              "      <td>0.001705</td>\n",
              "      <td>0.001705</td>\n",
              "      <td>CAL FIRE Sonoma-Lake-Napa Unit</td>\n",
              "      <td>CAL FIRE Sonoma-Lake-Napa Unit</td>\n",
              "    </tr>\n",
              "    <tr>\n",
              "      <th>13</th>\n",
              "      <td>CAL FIRE Madera-Mariposa-Merced</td>\n",
              "      <td>37.146630</td>\n",
              "      <td>-119.912230</td>\n",
              "      <td>0.648331</td>\n",
              "      <td>-2.092863</td>\n",
              "      <td>0.001437</td>\n",
              "      <td>0.001526</td>\n",
              "      <td>CAL FIRE Madera-Mariposa-Merced Unit</td>\n",
              "      <td>CAL FIRE Madera-Mariposa-Merced Unit</td>\n",
              "    </tr>\n",
              "    <tr>\n",
              "      <th>14</th>\n",
              "      <td>CAL FIRE San Luis Obispo Unit</td>\n",
              "      <td>35.583540</td>\n",
              "      <td>-120.624135</td>\n",
              "      <td>0.621050</td>\n",
              "      <td>-2.105288</td>\n",
              "      <td>0.000925</td>\n",
              "      <td>0.001256</td>\n",
              "      <td>CAL FIRE San Luis Obispo Unit</td>\n",
              "      <td>CAL FIRE San Luis Obispo Unit</td>\n",
              "    </tr>\n",
              "  </tbody>\n",
              "</table>\n",
              "</div>"
            ],
            "text/plain": [
              "                                            AdminUnit   Latitude   Longitude  \\\n",
              "0                             CAL FIRE Mendocino Unit  39.279833 -123.258319   \n",
              "1                    CAL FIRE Amador - El Dorado Unit  38.821280 -121.039180   \n",
              "2                        CAL FIRE San Benito-Monterey  36.648320 -121.032530   \n",
              "3   CAL FIRE Santa Clara Unit/San Jose City Fire &...  37.176944 -121.686944   \n",
              "4                        CAL FIRE Shasta-Trinity Unit  40.741186 -122.649626   \n",
              "5                    CAL FIRE / Riverside County Fire  33.563490 -116.732032   \n",
              "6                             Klamath National Forest  41.833590 -122.992720   \n",
              "7                           CAL FIRE Santa Clara Unit  37.327440 -121.109030   \n",
              "8                         Kern County Fire Department  34.860220 -118.878810   \n",
              "9                          Los Padres National Forest  34.537650 -118.754950   \n",
              "10                   CAL FIRE Amador - El Dorado Unit  38.240330 -121.091990   \n",
              "11                       CAL FIRE Tehama - Glenn Unit  40.346652 -122.308479   \n",
              "12                     CAL FIRE Sonoma-Lake-Napa Unit  38.827500 -122.362500   \n",
              "13                   CAL FIRE Madera-Mariposa-Merced   37.146630 -119.912230   \n",
              "14                      CAL FIRE San Luis Obispo Unit  35.583540 -120.624135   \n",
              "\n",
              "    Latitude_rad  Longitude_rad     dist1     dist2  \\\n",
              "0       0.685562      -2.151263  0.000551  0.001356   \n",
              "1       0.677559      -2.112532  0.000667  0.001170   \n",
              "2       0.639634      -2.112416  0.000202  0.002615   \n",
              "3       0.648860      -2.123838  0.000536  0.001035   \n",
              "4       0.711068      -2.140640  0.000656  0.001555   \n",
              "5       0.585793      -2.037358  0.001355  0.001422   \n",
              "6       0.730134      -2.146628  0.001657  0.002861   \n",
              "7       0.651487      -2.113751  0.001942  0.001957   \n",
              "8       0.608426      -2.074827  0.000694  0.001089   \n",
              "9       0.602796      -2.072665  0.001838  0.002151   \n",
              "10      0.667420      -2.113454  0.000694  0.001325   \n",
              "11      0.704182      -2.134686  0.001401  0.001521   \n",
              "12      0.677668      -2.135629  0.001705  0.001705   \n",
              "13      0.648331      -2.092863  0.001437  0.001526   \n",
              "14      0.621050      -2.105288  0.000925  0.001256   \n",
              "\n",
              "                                           adminUnit1  \\\n",
              "0                             CAL FIRE Mendocino Unit   \n",
              "1                      CAL FIRE Amador-El Dorado Unit   \n",
              "2                        CAL FIRE San Benito-Monterey   \n",
              "3                           CAL FIRE Santa Clara Unit   \n",
              "4                              CAL FIRE Siskiyou Unit   \n",
              "5   CAL FIRE/Riverside County Fire/San Bernardino ...   \n",
              "6                        USFS Klamath National Forest   \n",
              "7                           CAL FIRE Santa Clara Unit   \n",
              "8   CAL FIRE / Kern County Fire / State Parks / US...   \n",
              "9                             Los Angeles County Fire   \n",
              "10                     CAL FIRE Amador-El Dorado Unit   \n",
              "11                         CAL FIRE Tehama-Glenn Unit   \n",
              "12                     CAL FIRE Sonoma-Lake-Napa Unit   \n",
              "13               CAL FIRE Madera-Mariposa-Merced Unit   \n",
              "14                      CAL FIRE San Luis Obispo Unit   \n",
              "\n",
              "                                           adminUnit2  \n",
              "0                            CAL FIRE Mendocinio Unit  \n",
              "1                      CAL FIRE Amador-El Dorado Unit  \n",
              "2                   CAL FIRE San Benito Monterey Unit  \n",
              "3                           CAL FIRE Santa Clara Unit  \n",
              "4   Unified Command: CAL FIRE Shasta-Trinity Unit,...  \n",
              "5                      San Bernardino National Forest  \n",
              "6                Rogue-River-Siskiyou National Forest  \n",
              "7                CAL FIRE Madera-Mariposa-Merced Unit  \n",
              "8                                    Kern County Fire  \n",
              "9             Unified Command LA County Fire and USFS  \n",
              "10                          CAL FIRE Amador El-Dorado  \n",
              "11                       CAL FIRE Shasta-Trinity Unit  \n",
              "12                     CAL FIRE Sonoma-Lake-Napa Unit  \n",
              "13               CAL FIRE Madera-Mariposa-Merced Unit  \n",
              "14                      CAL FIRE San Luis Obispo Unit  "
            ]
          },
          "metadata": {},
          "execution_count": 107
        }
      ]
    },
    {
      "cell_type": "markdown",
      "metadata": {
        "id": "IzBwvcVKJlL_"
      },
      "source": [
        "Used the 'Haversine' distance as the metric (scikit-learn) to get better results."
      ]
    },
    {
      "cell_type": "markdown",
      "metadata": {
        "id": "Y81sZvyCQxy-"
      },
      "source": [
        "# HNSW - **Hierarchical Navigable Small World Graphs**\n"
      ]
    },
    {
      "cell_type": "markdown",
      "metadata": {
        "id": "npLBCqqjkQ9r"
      },
      "source": [
        "MovieLens dataset from LightFM"
      ]
    },
    {
      "cell_type": "code",
      "metadata": {
        "id": "m9_3X-Y0Q1EE",
        "colab": {
          "base_uri": "https://localhost:8080/"
        },
        "outputId": "7718f04a-45e0-450e-c4f7-a8824fe11fa3"
      },
      "source": [
        "!pip install nmslib\n",
        "import nmslib"
      ],
      "execution_count": null,
      "outputs": [
        {
          "output_type": "stream",
          "name": "stdout",
          "text": [
            "Requirement already satisfied: nmslib in /usr/local/lib/python3.7/dist-packages (2.1.1)\n",
            "Requirement already satisfied: psutil in /usr/local/lib/python3.7/dist-packages (from nmslib) (5.4.8)\n",
            "Requirement already satisfied: pybind11<2.6.2 in /usr/local/lib/python3.7/dist-packages (from nmslib) (2.6.1)\n",
            "Requirement already satisfied: numpy>=1.10.0 in /usr/local/lib/python3.7/dist-packages (from nmslib) (1.19.5)\n"
          ]
        }
      ]
    },
    {
      "cell_type": "code",
      "metadata": {
        "id": "JL94PQ08QEv4"
      },
      "source": [
        "from lightfm.datasets import fetch_movielens\n",
        "movielens = fetch_movielens()"
      ],
      "execution_count": null,
      "outputs": []
    },
    {
      "cell_type": "code",
      "metadata": {
        "id": "WVE0MWn4QLbL"
      },
      "source": [
        "train = movielens['train']\n",
        "test = movielens['test']"
      ],
      "execution_count": null,
      "outputs": []
    },
    {
      "cell_type": "code",
      "metadata": {
        "colab": {
          "base_uri": "https://localhost:8080/"
        },
        "id": "rFYYtRFMQTPq",
        "outputId": "ec9ba837-247e-4bdc-9a11-2cd92e94d23f"
      },
      "source": [
        "model = LightFM(learning_rate=0.05, loss='warp', no_components=64, item_alpha=0.001)\n",
        "\n",
        "model.fit_partial(train, item_features=movielens['item_features'], epochs=20 )"
      ],
      "execution_count": null,
      "outputs": [
        {
          "output_type": "execute_result",
          "data": {
            "text/plain": [
              "<lightfm.lightfm.LightFM at 0x7f3c72bc04d0>"
            ]
          },
          "metadata": {},
          "execution_count": 9
        }
      ]
    },
    {
      "cell_type": "code",
      "metadata": {
        "id": "Ls6C_xjuQY_H"
      },
      "source": [
        "from lightfm.evaluation import precision_at_k"
      ],
      "execution_count": null,
      "outputs": []
    },
    {
      "cell_type": "code",
      "metadata": {
        "colab": {
          "base_uri": "https://localhost:8080/"
        },
        "id": "ZEls_oB3QbeE",
        "outputId": "8cd70707-85c1-4c3a-e23e-3fc6f4a855cf"
      },
      "source": [
        "tr_preci = precision_at_k(model, train, k=10).mean()\n",
        "test_preci = precision_at_k(model, test, k=10).mean()\n",
        "\n",
        "print('Precision - for train data %.2f, for test data %.2f' %(tr_preci, test_preci))"
      ],
      "execution_count": null,
      "outputs": [
        {
          "output_type": "stream",
          "name": "stdout",
          "text": [
            "Precision - for train data 0.73, for test data 0.10\n"
          ]
        }
      ]
    },
    {
      "cell_type": "code",
      "metadata": {
        "id": "hACyQ58ORK-G"
      },
      "source": [
        "_, item_embeddings = model.get_item_representations(movielens['item_features']) # item embedding from item features"
      ],
      "execution_count": null,
      "outputs": []
    },
    {
      "cell_type": "markdown",
      "metadata": {
        "id": "leSD9D4TQ54O"
      },
      "source": [
        "creating nmslib index using HSNW index with cosine similarity"
      ]
    },
    {
      "cell_type": "code",
      "metadata": {
        "id": "FNCyJCclQ-qM"
      },
      "source": [
        "nms_idx = nmslib.init(method='hnsw', space='cosinesimil')\n",
        "nms_idx.addDataPointBatch(item_embeddings)\n",
        "nms_idx.createIndex(print_progress=True)"
      ],
      "execution_count": null,
      "outputs": []
    },
    {
      "cell_type": "code",
      "metadata": {
        "id": "WO6TlYQ4RT7z"
      },
      "source": [
        "def get_nearest_neighbors_hnsw(mv_id, index, n=8, print_output=True):\n",
        "  nn = index.knnQuery(item_embeddings[mv_id], k=8)\n",
        "  if print_output == True:\n",
        "    print('Nearest to %s : \\n' % movielens['item_labels'][mv_id])\n",
        "  titles = [movielens['item_labels'][i] for i in nn[0]]\n",
        "  if print_output == True:\n",
        "    print('\\n'.join(titles))"
      ],
      "execution_count": null,
      "outputs": []
    },
    {
      "cell_type": "code",
      "metadata": {
        "colab": {
          "base_uri": "https://localhost:8080/"
        },
        "id": "kvVCl5rESNiZ",
        "outputId": "4f11f491-be3e-44bc-d14a-a7e89e060f9f"
      },
      "source": [
        "get_nearest_neighbors_hnsw(50, nms_idx, n=8)"
      ],
      "execution_count": null,
      "outputs": [
        {
          "output_type": "stream",
          "name": "stdout",
          "text": [
            "Nearest to Legends of the Fall (1994) : \n",
            "\n",
            "Legends of the Fall (1994)\n",
            "Firm, The (1993)\n",
            "Last of the Mohicans, The (1992)\n",
            "Ghost (1990)\n",
            "Walk in the Clouds, A (1995)\n",
            "Fried Green Tomatoes (1991)\n",
            "Boys on the Side (1995)\n",
            "When a Man Loves a Woman (1994)\n"
          ]
        }
      ]
    },
    {
      "cell_type": "markdown",
      "metadata": {
        "id": "BfCVMxUVTgX1"
      },
      "source": [
        "We can get the nearest neighbors that is similar movie names using the HNSW method with cosine similarity. I used k=8 to get 8 nearest neighbors for the movie \"Legends of the Fall\"."
      ]
    },
    {
      "cell_type": "markdown",
      "metadata": {
        "id": "BxGiuLnXmAst"
      },
      "source": [
        "# References\n",
        "1. https://towardsdatascience.com/comprehensive-guide-to-approximate-nearest-neighbors-algorithms-8b94f057d6b6\n",
        "2. https://making.lyst.com/lightfm/docs/datasets.html\n",
        "3. https://faiss.ai/"
      ]
    }
  ]
}